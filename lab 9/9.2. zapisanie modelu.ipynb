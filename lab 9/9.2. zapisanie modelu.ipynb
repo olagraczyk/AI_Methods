{
 "cells": [
  {
   "cell_type": "code",
   "execution_count": 1,
   "id": "0dd96726",
   "metadata": {},
   "outputs": [
    {
     "name": "stderr",
     "output_type": "stream",
     "text": [
      "C:\\ProgramData\\Anaconda3\\lib\\site-packages\\scipy\\__init__.py:146: UserWarning: A NumPy version >=1.16.5 and <1.23.0 is required for this version of SciPy (detected version 1.26.1\n",
      "  warnings.warn(f\"A NumPy version >={np_minversion} and <{np_maxversion}\"\n"
     ]
    }
   ],
   "source": [
    "import numpy as np\n",
    "import matplotlib.pyplot as plt\n",
    "import tensorflow as tf\n",
    "import pandas as pd\n",
    "import os\n",
    "os.environ[\"KMP_DUPLICATE_LIB_OK\"]=\"TRUE\"\n",
    "os.environ['CUDA_VISIBLE_DEVICES'] = '-1'\n",
    "from tensorflow.keras.callbacks import EarlyStopping\n",
    "from tensorflow.keras.models import Sequential\n",
    "from tensorflow.keras.layers import Dense, Dropout, Conv2D, MaxPooling2D, Flatten\n",
    "from tensorflow.keras.layers import BatchNormalization\n",
    "from tensorflow.keras.callbacks import ModelCheckpoint\n",
    "\n",
    "save_best = ModelCheckpoint('./best_model.h5', monitor='val_loss', save_best_only=True)\n",
    "es = EarlyStopping(monitor = \"val_loss\", mode = \"min\", patience = 5)\n",
    "\n",
    "EPOCHS = 100"
   ]
  },
  {
   "cell_type": "code",
   "execution_count": 2,
   "id": "8c79f8d4",
   "metadata": {},
   "outputs": [
    {
     "name": "stdout",
     "output_type": "stream",
     "text": [
      "Found 963 images belonging to 2 classes.\n",
      "Found 240 images belonging to 2 classes.\n"
     ]
    }
   ],
   "source": [
    "from keras.preprocessing.image import ImageDataGenerator\n",
    "\n",
    "root_path = \"data_images/\"\n",
    "\n",
    "gen = ImageDataGenerator(\n",
    "    rescale=1./255,\n",
    "    horizontal_flip=True,\n",
    "    vertical_flip=True,\n",
    "    rotation_range=20,\n",
    "    validation_split=0.2\n",
    ")\n",
    "\n",
    "# Load Data\n",
    "train_dataset = gen.flow_from_directory(\n",
    "    root_path,\n",
    "    class_mode=\"categorical\",\n",
    "    classes=[\"smile\",\"non_smile\"],\n",
    "    shuffle=True,\n",
    "    batch_size=32,\n",
    "    target_size=(64,64),\n",
    "    subset=\"training\"\n",
    ")\n",
    "\n",
    "validation_dataset = gen.flow_from_directory(\n",
    "    root_path,\n",
    "    class_mode=\"categorical\",\n",
    "    classes=[\"smile\",\"non_smile\"],\n",
    "    shuffle=True,\n",
    "    batch_size=32,\n",
    "    target_size=(64,64),\n",
    "    subset=\"validation\"\n",
    ")"
   ]
  },
  {
   "cell_type": "code",
   "execution_count": 3,
   "id": "1c801399",
   "metadata": {},
   "outputs": [
    {
     "name": "stdout",
     "output_type": "stream",
     "text": [
      "Model: \"sequential\"\n",
      "_________________________________________________________________\n",
      " Layer (type)                Output Shape              Param #   \n",
      "=================================================================\n",
      " conv2d (Conv2D)             (None, 62, 62, 16)        448       \n",
      "                                                                 \n",
      " max_pooling2d (MaxPooling2  (None, 31, 31, 16)        0         \n",
      " D)                                                              \n",
      "                                                                 \n",
      " flatten (Flatten)           (None, 15376)             0         \n",
      "                                                                 \n",
      " dense (Dense)               (None, 512)               7873024   \n",
      "                                                                 \n",
      " dense_1 (Dense)             (None, 2)                 1026      \n",
      "                                                                 \n",
      "=================================================================\n",
      "Total params: 7874498 (30.04 MB)\n",
      "Trainable params: 7874498 (30.04 MB)\n",
      "Non-trainable params: 0 (0.00 Byte)\n",
      "_________________________________________________________________\n",
      "Epoch 1/100\n",
      "31/31 [==============================] - ETA: 0s - loss: 1.4767 - accuracy: 0.5151"
     ]
    },
    {
     "name": "stderr",
     "output_type": "stream",
     "text": [
      "C:\\Users\\student\\AppData\\Roaming\\Python\\Python39\\site-packages\\keras\\src\\engine\\training.py:3079: UserWarning: You are saving your model as an HDF5 file via `model.save()`. This file format is considered legacy. We recommend using instead the native Keras format, e.g. `model.save('my_model.keras')`.\n",
      "  saving_api.save_model(\n"
     ]
    },
    {
     "name": "stdout",
     "output_type": "stream",
     "text": [
      "31/31 [==============================] - 7s 216ms/step - loss: 1.4767 - accuracy: 0.5151 - val_loss: 0.6892 - val_accuracy: 0.5000\n",
      "Epoch 2/100\n",
      "31/31 [==============================] - 6s 183ms/step - loss: 0.6976 - accuracy: 0.5109 - val_loss: 0.6703 - val_accuracy: 0.6417\n",
      "Epoch 3/100\n",
      "31/31 [==============================] - 6s 186ms/step - loss: 0.6257 - accuracy: 0.6791 - val_loss: 0.6222 - val_accuracy: 0.6125\n",
      "Epoch 4/100\n",
      "31/31 [==============================] - 6s 180ms/step - loss: 0.5542 - accuracy: 0.7383 - val_loss: 0.5448 - val_accuracy: 0.7958\n",
      "Epoch 5/100\n",
      "31/31 [==============================] - 6s 178ms/step - loss: 0.4968 - accuracy: 0.7674 - val_loss: 0.5436 - val_accuracy: 0.7417\n",
      "Epoch 6/100\n",
      "31/31 [==============================] - 5s 172ms/step - loss: 0.4532 - accuracy: 0.7944 - val_loss: 0.4493 - val_accuracy: 0.8167\n",
      "Epoch 7/100\n",
      "31/31 [==============================] - 5s 159ms/step - loss: 0.4116 - accuracy: 0.8120 - val_loss: 0.4685 - val_accuracy: 0.7917\n",
      "Epoch 8/100\n",
      "31/31 [==============================] - 5s 176ms/step - loss: 0.3495 - accuracy: 0.8505 - val_loss: 0.3825 - val_accuracy: 0.8292\n",
      "Epoch 9/100\n",
      "31/31 [==============================] - 5s 170ms/step - loss: 0.3377 - accuracy: 0.8484 - val_loss: 0.3409 - val_accuracy: 0.8792\n",
      "Epoch 10/100\n",
      "31/31 [==============================] - 6s 194ms/step - loss: 0.3664 - accuracy: 0.8401 - val_loss: 0.4326 - val_accuracy: 0.8375\n",
      "Epoch 11/100\n",
      "31/31 [==============================] - 6s 180ms/step - loss: 0.3188 - accuracy: 0.8816 - val_loss: 0.3251 - val_accuracy: 0.8667\n",
      "Epoch 12/100\n",
      "31/31 [==============================] - 5s 164ms/step - loss: 0.2811 - accuracy: 0.8930 - val_loss: 0.3240 - val_accuracy: 0.8708\n",
      "Epoch 13/100\n",
      "31/31 [==============================] - 6s 178ms/step - loss: 0.3113 - accuracy: 0.8775 - val_loss: 0.2902 - val_accuracy: 0.8625\n",
      "Epoch 14/100\n",
      "31/31 [==============================] - 5s 164ms/step - loss: 0.3094 - accuracy: 0.8723 - val_loss: 0.3732 - val_accuracy: 0.8292\n",
      "Epoch 15/100\n",
      "31/31 [==============================] - 5s 153ms/step - loss: 0.2830 - accuracy: 0.8837 - val_loss: 0.3217 - val_accuracy: 0.8583\n",
      "Epoch 16/100\n",
      "31/31 [==============================] - 5s 157ms/step - loss: 0.2646 - accuracy: 0.8858 - val_loss: 0.2784 - val_accuracy: 0.8875\n",
      "Epoch 17/100\n",
      "31/31 [==============================] - 5s 160ms/step - loss: 0.2721 - accuracy: 0.8920 - val_loss: 0.3183 - val_accuracy: 0.8500\n",
      "Epoch 18/100\n",
      "31/31 [==============================] - 5s 157ms/step - loss: 0.2554 - accuracy: 0.8993 - val_loss: 0.2945 - val_accuracy: 0.8667\n",
      "Epoch 19/100\n",
      "31/31 [==============================] - 5s 160ms/step - loss: 0.2490 - accuracy: 0.8982 - val_loss: 0.4132 - val_accuracy: 0.8375\n",
      "Epoch 20/100\n",
      "31/31 [==============================] - 5s 161ms/step - loss: 0.2759 - accuracy: 0.8879 - val_loss: 0.3061 - val_accuracy: 0.8750\n",
      "Epoch 21/100\n",
      "31/31 [==============================] - 6s 179ms/step - loss: 0.2297 - accuracy: 0.9169 - val_loss: 0.2597 - val_accuracy: 0.8833\n",
      "Epoch 22/100\n",
      "31/31 [==============================] - 5s 161ms/step - loss: 0.2374 - accuracy: 0.8982 - val_loss: 0.2644 - val_accuracy: 0.8875\n",
      "Epoch 23/100\n",
      "31/31 [==============================] - 5s 159ms/step - loss: 0.2380 - accuracy: 0.9055 - val_loss: 0.2929 - val_accuracy: 0.8833\n",
      "Epoch 24/100\n",
      "31/31 [==============================] - 5s 158ms/step - loss: 0.2282 - accuracy: 0.9024 - val_loss: 0.2961 - val_accuracy: 0.8917\n",
      "Epoch 25/100\n",
      "31/31 [==============================] - 5s 157ms/step - loss: 0.2207 - accuracy: 0.9200 - val_loss: 0.3298 - val_accuracy: 0.8542\n",
      "Epoch 26/100\n",
      "31/31 [==============================] - 5s 173ms/step - loss: 0.2323 - accuracy: 0.9117 - val_loss: 0.2547 - val_accuracy: 0.8792\n",
      "Epoch 27/100\n",
      "31/31 [==============================] - 5s 173ms/step - loss: 0.2456 - accuracy: 0.9055 - val_loss: 0.2627 - val_accuracy: 0.9083\n",
      "Epoch 28/100\n",
      "31/31 [==============================] - 7s 227ms/step - loss: 0.2339 - accuracy: 0.8982 - val_loss: 0.2323 - val_accuracy: 0.9208\n",
      "Epoch 29/100\n",
      "31/31 [==============================] - 5s 154ms/step - loss: 0.2372 - accuracy: 0.9034 - val_loss: 0.3061 - val_accuracy: 0.8458\n",
      "Epoch 30/100\n",
      "31/31 [==============================] - 5s 151ms/step - loss: 0.2548 - accuracy: 0.8930 - val_loss: 0.2694 - val_accuracy: 0.8750\n",
      "Epoch 31/100\n",
      "31/31 [==============================] - 5s 148ms/step - loss: 0.2334 - accuracy: 0.9200 - val_loss: 0.2922 - val_accuracy: 0.8833\n",
      "Epoch 32/100\n",
      "31/31 [==============================] - 5s 149ms/step - loss: 0.2310 - accuracy: 0.9097 - val_loss: 0.2366 - val_accuracy: 0.9167\n",
      "Epoch 33/100\n",
      "31/31 [==============================] - 5s 162ms/step - loss: 0.2162 - accuracy: 0.9169 - val_loss: 0.2105 - val_accuracy: 0.9000\n",
      "Epoch 34/100\n",
      "31/31 [==============================] - 5s 159ms/step - loss: 0.1930 - accuracy: 0.9315 - val_loss: 0.2349 - val_accuracy: 0.9125\n",
      "Epoch 35/100\n",
      "31/31 [==============================] - 5s 159ms/step - loss: 0.2008 - accuracy: 0.9211 - val_loss: 0.2659 - val_accuracy: 0.9083\n",
      "Epoch 36/100\n",
      "31/31 [==============================] - 5s 153ms/step - loss: 0.1818 - accuracy: 0.9211 - val_loss: 0.2692 - val_accuracy: 0.8875\n",
      "Epoch 37/100\n",
      "31/31 [==============================] - 5s 156ms/step - loss: 0.1998 - accuracy: 0.9180 - val_loss: 0.2258 - val_accuracy: 0.9083\n",
      "Epoch 38/100\n",
      "31/31 [==============================] - 5s 151ms/step - loss: 0.1735 - accuracy: 0.9335 - val_loss: 0.2138 - val_accuracy: 0.9208\n"
     ]
    }
   ],
   "source": [
    "model = Sequential()\n",
    "model.add(Conv2D(filters = 16, kernel_size = (3, 3), activation='relu', input_shape=(64, 64, 3)))\n",
    "model.add(MaxPooling2D())\n",
    "\n",
    "model.add(Flatten())\n",
    "model.add(Dense(512, activation = 'relu'))\n",
    "model.add(Dense(2, activation='softmax'))\n",
    "model.summary()\n",
    "model.compile(optimizer='adam',\n",
    "              loss='categorical_crossentropy',\n",
    "              metrics=['accuracy'])\n",
    "history = model.fit(train_dataset, epochs=EPOCHS, validation_data=(validation_dataset), callbacks=[es, save_best])"
   ]
  },
  {
   "cell_type": "code",
   "execution_count": 4,
   "id": "a310a703",
   "metadata": {},
   "outputs": [
    {
     "data": {
      "text/plain": [
       "<matplotlib.legend.Legend at 0x235229fefd0>"
      ]
     },
     "execution_count": 4,
     "metadata": {},
     "output_type": "execute_result"
    },
    {
     "data": {
      "image/png": "[encoded data removed]",
      "text/plain": [
       "<Figure size 720x360 with 2 Axes>"
      ]
     },
     "metadata": {
      "needs_background": "light"
     },
     "output_type": "display_data"
    }
   ],
   "source": [
    "hist = pd.DataFrame(history.history)\n",
    "plt.figure(figsize=(10,5))\n",
    "plt.subplot(1,2,1)\n",
    "plt.plot(hist.loss, label = \"loss\")\n",
    "plt.plot(hist.val_loss, label = \"val_loss\")\n",
    "plt.xlabel(\"epoch\")\n",
    "plt.ylabel(\"loss\")\n",
    "plt.legend()\n",
    "\n",
    "plt.subplot(1,2,2)\n",
    "plt.plot(hist.accuracy, label = \"acc\")\n",
    "plt.plot(hist.val_accuracy, label = \"val_acc\")\n",
    "plt.xlabel(\"epoch\")\n",
    "plt.ylabel(\"loss\")\n",
    "plt.legend()"
   ]
  },
  {
   "cell_type": "code",
   "execution_count": null,
   "id": "1252578d",
   "metadata": {},
   "outputs": [],
   "source": []
  }
 ],
 "metadata": {
  "kernelspec": {
   "display_name": "Python 3 (ipykernel)",
   "language": "python",
   "name": "python3"
  },
  "language_info": {
   "codemirror_mode": {
    "name": "ipython",
    "version": 3
   },
   "file_extension": ".py",
   "mimetype": "text/x-python",
   "name": "python",
   "nbconvert_exporter": "python",
   "pygments_lexer": "ipython3",
   "version": "3.9.12"
  }
 },
 "nbformat": 4,
 "nbformat_minor": 5
}

{
 "cells": [
  {
   "cell_type": "markdown",
   "id": "90e2f266",
   "metadata": {},
   "source": [
    "jak licymy sobie loss to jak dorzyc regularyzacje to ona powoduje że ten błąd ma dodatkowy współczynnik. Wspołczynnik ktory karze siec za to żema duże wartości wagi.\n",
    "Służy więc do tego żeby naszą szaloną sieć uspokoić"
   ]
  },
  {
   "cell_type": "code",
   "execution_count": 3,
   "id": "d5074bd2",
   "metadata": {},
   "outputs": [],
   "source": [
    "import tensorflow as tf\n",
    "from tensorflow.keras.datasets import mnist\n",
    "import pandas as pd\n",
    "from tensorflow.keras.callbacks import EarlyStopping\n",
    "from tensorflow.keras.models import Sequential\n",
    "from tensorflow.keras.layers import Dense, Flatten\n",
    "from tensorflow.keras.regularizers import l2\n",
    "import matplotlib.pyplot as plt\n",
    "import os \n",
    "os.environ[\"KMP_DUPLICATE_LIB_OK\"]=\"TRUE\"\n",
    "os.environ['CUDA_VISIBLE_DEVICES'] = '-1'\n",
    "\n",
    "\n",
    "es = EarlyStopping(monitor = \"val_loss\", mode = \"min\", patience = 5)\n",
    "EPOCHS = 20\n",
    "\n",
    "#wczytanie danych \n",
    "(x_train, y_train), (x_test, y_test) = tf.keras.datasets.mnist.load_data()\n",
    "\n",
    "# Wczytaj zbiór MNIST i znormalizuj dane (jak na poprzednich zajęciach)\n",
    "# Stwórz dwa modele. Każdy z nich powinien mieć dwie warstwy ukryte o 64 neuronach. \n",
    "# Różnica polega na dodaniu w jednym z modeli argumentu do każdej warstwy ukrytej (Dense) -\n",
    "# kernel_regularizer=l2(0.001).\n",
    "# Wytrenuj oba modele\n",
    "# Stórz wykresy porównujące val_acc i acc obu modeli"
   ]
  },
  {
   "cell_type": "code",
   "execution_count": null,
   "id": "1e704b68",
   "metadata": {},
   "outputs": [],
   "source": [
    "# normalizacja danych\n",
    "x_train = x_train.astype('float32') / 255\n",
    "x_test = x_test.astype('float32') / 255"
   ]
  },
  {
   "cell_type": "code",
   "execution_count": 4,
   "id": "8f861a08",
   "metadata": {},
   "outputs": [
    {
     "name": "stdout",
     "output_type": "stream",
     "text": [
      "Model: \"sequential\"\n",
      "_________________________________________________________________\n",
      " Layer (type)                Output Shape              Param #   \n",
      "=================================================================\n",
      " flatten (Flatten)           (None, 784)               0         \n",
      "                                                                 \n",
      " dense (Dense)               (None, 256)               200960    \n",
      "                                                                 \n",
      " dense_1 (Dense)             (None, 10)                2570      \n",
      "                                                                 \n",
      "=================================================================\n",
      "Total params: 203530 (795.04 KB)\n",
      "Trainable params: 203530 (795.04 KB)\n",
      "Non-trainable params: 0 (0.00 Byte)\n",
      "_________________________________________________________________\n"
     ]
    }
   ],
   "source": [
    "# no kernel regularizer\n",
    "noreg = Sequential()\n",
    "noreg.add(Flatten(input_shape=(28,28)))\n",
    "noreg.add(Dense(256, activation = 'relu'))\n",
    "noreg.add(Dense(10, activation = 'softmax'))\n",
    "\n",
    "noreg.compile(optimizer='adam',\n",
    "              loss='sparse_categorical_crossentropy',\n",
    "              metrics=['accuracy'])\n",
    "\n",
    "noreg.summary()"
   ]
  },
  {
   "cell_type": "code",
   "execution_count": 6,
   "id": "c86de47a",
   "metadata": {},
   "outputs": [
    {
     "name": "stdout",
     "output_type": "stream",
     "text": [
      "Epoch 1/20\n",
      "1875/1875 [==============================] - 6s 3ms/step - loss: 2.7128 - accuracy: 0.8868 - val_loss: 0.4319 - val_accuracy: 0.9169\n",
      "Epoch 2/20\n",
      "1875/1875 [==============================] - 5s 3ms/step - loss: 0.3286 - accuracy: 0.9294 - val_loss: 0.3003 - val_accuracy: 0.9384\n",
      "Epoch 3/20\n",
      "1875/1875 [==============================] - 5s 3ms/step - loss: 0.2579 - accuracy: 0.9410 - val_loss: 0.3925 - val_accuracy: 0.9270\n",
      "Epoch 4/20\n",
      "1875/1875 [==============================] - 5s 3ms/step - loss: 0.2448 - accuracy: 0.9428 - val_loss: 0.3452 - val_accuracy: 0.9375\n",
      "Epoch 5/20\n",
      "1875/1875 [==============================] - 5s 3ms/step - loss: 0.2270 - accuracy: 0.9479 - val_loss: 0.2546 - val_accuracy: 0.9481\n",
      "Epoch 6/20\n",
      "1875/1875 [==============================] - 5s 3ms/step - loss: 0.2115 - accuracy: 0.9517 - val_loss: 0.2781 - val_accuracy: 0.9438\n",
      "Epoch 7/20\n",
      "1875/1875 [==============================] - 5s 3ms/step - loss: 0.1975 - accuracy: 0.9532 - val_loss: 0.2782 - val_accuracy: 0.9508\n",
      "Epoch 8/20\n",
      "1875/1875 [==============================] - 5s 3ms/step - loss: 0.1909 - accuracy: 0.9561 - val_loss: 0.2787 - val_accuracy: 0.9560\n",
      "Epoch 9/20\n",
      "1875/1875 [==============================] - 5s 3ms/step - loss: 0.1927 - accuracy: 0.9570 - val_loss: 0.3177 - val_accuracy: 0.9403\n",
      "Epoch 10/20\n",
      "1875/1875 [==============================] - 5s 3ms/step - loss: 0.1838 - accuracy: 0.9593 - val_loss: 0.3125 - val_accuracy: 0.9425\n"
     ]
    }
   ],
   "source": [
    "history_noreg = noreg.fit(x_train, y_train, epochs = EPOCHS, validation_data=(x_test, y_test), callbacks = [es])\n",
    "hist_noreg = pd.DataFrame(history_noreg.history)"
   ]
  },
  {
   "cell_type": "code",
   "execution_count": 8,
   "id": "9e12d7d8",
   "metadata": {},
   "outputs": [
    {
     "name": "stdout",
     "output_type": "stream",
     "text": [
      "Model: \"sequential_2\"\n",
      "_________________________________________________________________\n",
      " Layer (type)                Output Shape              Param #   \n",
      "=================================================================\n",
      " flatten_2 (Flatten)         (None, 784)               0         \n",
      "                                                                 \n",
      " dense_2 (Dense)             (None, 256)               200960    \n",
      "                                                                 \n",
      " dense_3 (Dense)             (None, 10)                2570      \n",
      "                                                                 \n",
      "=================================================================\n",
      "Total params: 203530 (795.04 KB)\n",
      "Trainable params: 203530 (795.04 KB)\n",
      "Non-trainable params: 0 (0.00 Byte)\n",
      "_________________________________________________________________\n"
     ]
    }
   ],
   "source": [
    "# kernel regularization\n",
    "reg = Sequential()\n",
    "reg.add(Flatten(input_shape=(28,28)))\n",
    "reg.add(Dense(256, activation = 'relu', kernel_regularizer=l2(0.001)))\n",
    "reg.add(Dense(10, activation = 'softmax'))\n",
    "\n",
    "reg.compile(optimizer='adam',\n",
    "              loss='sparse_categorical_crossentropy',\n",
    "              metrics=['accuracy'])\n",
    "\n",
    "reg.summary()"
   ]
  },
  {
   "cell_type": "code",
   "execution_count": 9,
   "id": "f0125e87",
   "metadata": {},
   "outputs": [
    {
     "name": "stdout",
     "output_type": "stream",
     "text": [
      "Epoch 1/20\n",
      "1875/1875 [==============================] - 5s 3ms/step - loss: 0.1767 - accuracy: 0.9612 - val_loss: 0.3097 - val_accuracy: 0.9538\n",
      "Epoch 2/20\n",
      "1875/1875 [==============================] - 5s 3ms/step - loss: 0.1702 - accuracy: 0.9627 - val_loss: 0.3191 - val_accuracy: 0.9526\n",
      "Epoch 3/20\n",
      "1875/1875 [==============================] - 5s 3ms/step - loss: 0.1654 - accuracy: 0.9638 - val_loss: 0.3530 - val_accuracy: 0.9532\n",
      "Epoch 4/20\n",
      "1875/1875 [==============================] - 5s 3ms/step - loss: 0.1586 - accuracy: 0.9652 - val_loss: 0.3509 - val_accuracy: 0.9531\n",
      "Epoch 5/20\n",
      "1875/1875 [==============================] - 5s 3ms/step - loss: 0.1649 - accuracy: 0.9650 - val_loss: 0.3449 - val_accuracy: 0.9569\n",
      "Epoch 6/20\n",
      "1875/1875 [==============================] - 5s 3ms/step - loss: 0.1577 - accuracy: 0.9659 - val_loss: 0.4252 - val_accuracy: 0.9498\n"
     ]
    }
   ],
   "source": [
    "history_reg = noreg.fit(x_train, y_train, epochs = EPOCHS, validation_data=(x_test, y_test), callbacks = [es])\n",
    "hist_reg = pd.DataFrame(history_reg.history)"
   ]
  },
  {
   "cell_type": "code",
   "execution_count": 11,
   "id": "e22b2793",
   "metadata": {},
   "outputs": [
    {
     "data": {
      "text/plain": [
       "<matplotlib.legend.Legend at 0x15355c28be0>"
      ]
     },
     "execution_count": 11,
     "metadata": {},
     "output_type": "execute_result"
    },
    {
     "data": {
      "image/png": "[encoded data removed]",
      "text/plain": [
       "<Figure size 432x288 with 1 Axes>"
      ]
     },
     "metadata": {
      "needs_background": "light"
     },
     "output_type": "display_data"
    }
   ],
   "source": [
    "plt.plot()\n",
    "plt.plot(hist_noreg.accuracy, label = \"accuracy\")\n",
    "plt.plot(hist_noreg.val_accuracy, label = \"val_accuracy\")\n",
    "plt.xlabel(\"epoch\")\n",
    "plt.ylabel(\"accuracy\")\n",
    "plt.title(\"No regualrization\")\n",
    "\n",
    "\n",
    "plt.legend()"
   ]
  },
  {
   "cell_type": "code",
   "execution_count": 12,
   "id": "8dbe2b91",
   "metadata": {},
   "outputs": [
    {
     "data": {
      "text/plain": [
       "<matplotlib.legend.Legend at 0x153531ea880>"
      ]
     },
     "execution_count": 12,
     "metadata": {},
     "output_type": "execute_result"
    },
    {
     "data": {
      "image/png": "[encoded data removed]",
      "text/plain": [
       "<Figure size 432x288 with 1 Axes>"
      ]
     },
     "metadata": {
      "needs_background": "light"
     },
     "output_type": "display_data"
    }
   ],
   "source": [
    "plt.plot()\n",
    "plt.plot(hist_reg.accuracy, label = \"accuracy\")\n",
    "plt.plot(hist_reg.val_accuracy, label = \"val_accuracy\")\n",
    "plt.xlabel(\"epoch\")\n",
    "plt.ylabel(\"accuracy\")\n",
    "plt.title(\"With regualrization\")\n",
    "\n",
    "\n",
    "plt.legend()"
   ]
  },
  {
   "cell_type": "code",
   "execution_count": null,
   "id": "1e1b2fab",
   "metadata": {},
   "outputs": [],
   "source": []
  }
 ],
 "metadata": {
  "kernelspec": {
   "display_name": "Python 3 (ipykernel)",
   "language": "python",
   "name": "python3"
  },
  "language_info": {
   "codemirror_mode": {
    "name": "ipython",
    "version": 3
   },
   "file_extension": ".py",
   "mimetype": "text/x-python",
   "name": "python",
   "nbconvert_exporter": "python",
   "pygments_lexer": "ipython3",
   "version": "3.9.12"
  }
 },
 "nbformat": 4,
 "nbformat_minor": 5
}

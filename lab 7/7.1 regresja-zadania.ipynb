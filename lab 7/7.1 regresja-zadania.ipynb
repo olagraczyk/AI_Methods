{
 "cells": [
  {
   "cell_type": "code",
   "execution_count": 14,
   "id": "4f8feab7",
   "metadata": {},
   "outputs": [],
   "source": [
    "import numpy as np\n",
    "import matplotlib.pyplot as plt\n",
    "import tensorflow as tf\n",
    "import pandas as pd\n",
    "import os\n",
    "from tensorflow.keras.callbacks import EarlyStopping\n",
    "from tensorflow.keras.models import Sequential\n",
    "from tensorflow.keras.layers import Dense, Input\n",
    "\n",
    "os.environ[\"KMP_DUPLICATE_LIB_OK\"]=\"TRUE\"\n",
    "os.environ['CUDA_VISIBLE_DEVICES'] = '-1'\n",
    "\n",
    "\n",
    "es = EarlyStopping(monitor = \"val_loss\", mode = \"min\", patience = 10) #inna wartość!!\n",
    "\n",
    "(x_train, y_train), (x_test, y_test) = tf.keras.datasets.boston_housing.load_data()\n",
    "EPOCHS = 100"
   ]
  },
  {
   "cell_type": "code",
   "execution_count": 9,
   "id": "615eb252",
   "metadata": {},
   "outputs": [],
   "source": [
    "# Stwórz prostą sieć neuronową. Ile neuronów powinno być w ostatniej warstwie? 1\n",
    "# Jaka funkcja aktywacji? Do wspólnego zastanowienia. Liniowq\n",
    "# Jaką funkcję straty wykorzystać podczas kompilacji? Jakie metryki śledzić?\n",
    "# mse albo mae jako f.straty | a jako metrykę to drugie, co ni ejest naszą f straty\n",
    "# accuracy nie możemy wyliczyć\n",
    "# Wytrenuj model.\n",
    "# Wyświetl wykresy funkcji straty dla zbioru treningowego i walidacyjnego."
   ]
  },
  {
   "cell_type": "code",
   "execution_count": 15,
   "id": "278c5d0b",
   "metadata": {},
   "outputs": [
    {
     "data": {
      "text/plain": [
       "(404, 13)"
      ]
     },
     "execution_count": 15,
     "metadata": {},
     "output_type": "execute_result"
    }
   ],
   "source": [
    "x_train.shape"
   ]
  },
  {
   "cell_type": "code",
   "execution_count": 26,
   "id": "18d625c7",
   "metadata": {},
   "outputs": [],
   "source": [
    "model = Sequential([\n",
    "#       13 neuronów wejściowych\n",
    "        Input(shape = (13,)), \n",
    "        Dense(32, activation = 'relu'), \n",
    "        Dense(8, activation = 'relu'),\n",
    "        Dense(1, activation = \"linear\")\n",
    "])"
   ]
  },
  {
   "cell_type": "code",
   "execution_count": 27,
   "id": "1ae8e26b",
   "metadata": {},
   "outputs": [],
   "source": [
    "model.compile(loss = \"mse\", optimizer = 'adam', metrics=[\"mae\"])"
   ]
  },
  {
   "cell_type": "code",
   "execution_count": 28,
   "id": "c327a795",
   "metadata": {},
   "outputs": [
    {
     "name": "stdout",
     "output_type": "stream",
     "text": [
      "Model: \"sequential_3\"\n",
      "_________________________________________________________________\n",
      " Layer (type)                Output Shape              Param #   \n",
      "=================================================================\n",
      " dense_9 (Dense)             (None, 32)                448       \n",
      "                                                                 \n",
      " dense_10 (Dense)            (None, 8)                 264       \n",
      "                                                                 \n",
      " dense_11 (Dense)            (None, 1)                 9         \n",
      "                                                                 \n",
      "=================================================================\n",
      "Total params: 721 (2.82 KB)\n",
      "Trainable params: 721 (2.82 KB)\n",
      "Non-trainable params: 0 (0.00 Byte)\n",
      "_________________________________________________________________\n"
     ]
    }
   ],
   "source": [
    "model.summary()"
   ]
  },
  {
   "cell_type": "code",
   "execution_count": 29,
   "id": "aad58435",
   "metadata": {},
   "outputs": [
    {
     "name": "stdout",
     "output_type": "stream",
     "text": [
      "Epoch 1/100\n",
      "13/13 [==============================] - 1s 12ms/step - loss: 15694.1445 - mae: 119.2699 - val_loss: 7811.1270 - val_mae: 83.5795\n",
      "Epoch 2/100\n",
      "13/13 [==============================] - 0s 4ms/step - loss: 4695.4512 - mae: 62.0176 - val_loss: 2476.5649 - val_mae: 43.7913\n",
      "Epoch 3/100\n",
      "13/13 [==============================] - 0s 4ms/step - loss: 1802.9655 - mae: 38.5877 - val_loss: 1335.8101 - val_mae: 33.3741\n",
      "Epoch 4/100\n",
      "13/13 [==============================] - 0s 4ms/step - loss: 932.9481 - mae: 26.6330 - val_loss: 622.7701 - val_mae: 21.3527\n",
      "Epoch 5/100\n",
      "13/13 [==============================] - 0s 3ms/step - loss: 427.8503 - mae: 16.9430 - val_loss: 261.1293 - val_mae: 12.3970\n",
      "Epoch 6/100\n",
      "13/13 [==============================] - 0s 3ms/step - loss: 197.3645 - mae: 10.9151 - val_loss: 174.8095 - val_mae: 10.2781\n",
      "Epoch 7/100\n",
      "13/13 [==============================] - 0s 3ms/step - loss: 155.6269 - mae: 9.3160 - val_loss: 144.8098 - val_mae: 9.4448\n",
      "Epoch 8/100\n",
      "13/13 [==============================] - 0s 4ms/step - loss: 137.1441 - mae: 8.9029 - val_loss: 131.1539 - val_mae: 8.9306\n",
      "Epoch 9/100\n",
      "13/13 [==============================] - 0s 3ms/step - loss: 119.3886 - mae: 8.2085 - val_loss: 122.2741 - val_mae: 8.6353\n",
      "Epoch 10/100\n",
      "13/13 [==============================] - 0s 4ms/step - loss: 108.3324 - mae: 7.7688 - val_loss: 110.4976 - val_mae: 8.2120\n",
      "Epoch 11/100\n",
      "13/13 [==============================] - 0s 4ms/step - loss: 98.8131 - mae: 7.4562 - val_loss: 100.9510 - val_mae: 7.8307\n",
      "Epoch 12/100\n",
      "13/13 [==============================] - 0s 5ms/step - loss: 90.5071 - mae: 7.0542 - val_loss: 94.7115 - val_mae: 7.5891\n",
      "Epoch 13/100\n",
      "13/13 [==============================] - 0s 3ms/step - loss: 84.5993 - mae: 6.8460 - val_loss: 89.0600 - val_mae: 7.3806\n",
      "Epoch 14/100\n",
      "13/13 [==============================] - 0s 5ms/step - loss: 80.5456 - mae: 6.6327 - val_loss: 84.4341 - val_mae: 7.1717\n",
      "Epoch 15/100\n",
      "13/13 [==============================] - 0s 3ms/step - loss: 76.5580 - mae: 6.4207 - val_loss: 81.2179 - val_mae: 7.0129\n",
      "Epoch 16/100\n",
      "13/13 [==============================] - 0s 3ms/step - loss: 74.0659 - mae: 6.3690 - val_loss: 80.1228 - val_mae: 6.9140\n",
      "Epoch 17/100\n",
      "13/13 [==============================] - 0s 4ms/step - loss: 71.4849 - mae: 6.1169 - val_loss: 76.1813 - val_mae: 6.7141\n",
      "Epoch 18/100\n",
      "13/13 [==============================] - 0s 4ms/step - loss: 69.2804 - mae: 6.0679 - val_loss: 75.9801 - val_mae: 6.6956\n",
      "Epoch 19/100\n",
      "13/13 [==============================] - 0s 4ms/step - loss: 67.5008 - mae: 5.8416 - val_loss: 72.5105 - val_mae: 6.5210\n",
      "Epoch 20/100\n",
      "13/13 [==============================] - 0s 3ms/step - loss: 67.6687 - mae: 5.9225 - val_loss: 72.0997 - val_mae: 6.4754\n",
      "Epoch 21/100\n",
      "13/13 [==============================] - 0s 4ms/step - loss: 64.4731 - mae: 5.7967 - val_loss: 70.1264 - val_mae: 6.3755\n",
      "Epoch 22/100\n",
      "13/13 [==============================] - 0s 3ms/step - loss: 63.9923 - mae: 5.7079 - val_loss: 68.4534 - val_mae: 6.2857\n",
      "Epoch 23/100\n",
      "13/13 [==============================] - 0s 4ms/step - loss: 63.3299 - mae: 5.7627 - val_loss: 69.7838 - val_mae: 6.2999\n",
      "Epoch 24/100\n",
      "13/13 [==============================] - 0s 5ms/step - loss: 61.5893 - mae: 5.5972 - val_loss: 66.7246 - val_mae: 6.1626\n",
      "Epoch 25/100\n",
      "13/13 [==============================] - 0s 4ms/step - loss: 60.3056 - mae: 5.5085 - val_loss: 66.8528 - val_mae: 6.1571\n",
      "Epoch 26/100\n",
      "13/13 [==============================] - 0s 3ms/step - loss: 59.9298 - mae: 5.4929 - val_loss: 65.3480 - val_mae: 6.0774\n",
      "Epoch 27/100\n",
      "13/13 [==============================] - 0s 4ms/step - loss: 59.2727 - mae: 5.5756 - val_loss: 65.1365 - val_mae: 6.0526\n",
      "Epoch 28/100\n",
      "13/13 [==============================] - 0s 3ms/step - loss: 57.8498 - mae: 5.3630 - val_loss: 63.8744 - val_mae: 5.9915\n",
      "Epoch 29/100\n",
      "13/13 [==============================] - 0s 4ms/step - loss: 57.2634 - mae: 5.4656 - val_loss: 64.2800 - val_mae: 5.9821\n",
      "Epoch 30/100\n",
      "13/13 [==============================] - 0s 4ms/step - loss: 57.0477 - mae: 5.3402 - val_loss: 62.8571 - val_mae: 5.9069\n",
      "Epoch 31/100\n",
      "13/13 [==============================] - 0s 4ms/step - loss: 56.4033 - mae: 5.2842 - val_loss: 62.0263 - val_mae: 5.8942\n",
      "Epoch 32/100\n",
      "13/13 [==============================] - 0s 3ms/step - loss: 55.5706 - mae: 5.3366 - val_loss: 63.6856 - val_mae: 5.9028\n",
      "Epoch 33/100\n",
      "13/13 [==============================] - 0s 4ms/step - loss: 54.8472 - mae: 5.1677 - val_loss: 61.4234 - val_mae: 5.8472\n",
      "Epoch 34/100\n",
      "13/13 [==============================] - 0s 4ms/step - loss: 54.3276 - mae: 5.2266 - val_loss: 60.8517 - val_mae: 5.7547\n",
      "Epoch 35/100\n",
      "13/13 [==============================] - 0s 4ms/step - loss: 53.4086 - mae: 5.1846 - val_loss: 59.6982 - val_mae: 5.7430\n",
      "Epoch 36/100\n",
      "13/13 [==============================] - 0s 4ms/step - loss: 53.5357 - mae: 5.0975 - val_loss: 60.1887 - val_mae: 5.7130\n",
      "Epoch 37/100\n",
      "13/13 [==============================] - 0s 4ms/step - loss: 52.7091 - mae: 5.2593 - val_loss: 58.9875 - val_mae: 5.6327\n",
      "Epoch 38/100\n",
      "13/13 [==============================] - 0s 4ms/step - loss: 52.6480 - mae: 5.0842 - val_loss: 58.5935 - val_mae: 5.6385\n",
      "Epoch 39/100\n",
      "13/13 [==============================] - 0s 4ms/step - loss: 52.0468 - mae: 4.9737 - val_loss: 57.8526 - val_mae: 5.6444\n",
      "Epoch 40/100\n",
      "13/13 [==============================] - 0s 4ms/step - loss: 52.6631 - mae: 5.1680 - val_loss: 56.9828 - val_mae: 5.5475\n",
      "Epoch 41/100\n",
      "13/13 [==============================] - 0s 4ms/step - loss: 50.8328 - mae: 5.0649 - val_loss: 57.4130 - val_mae: 5.5569\n",
      "Epoch 42/100\n",
      "13/13 [==============================] - 0s 4ms/step - loss: 50.1325 - mae: 4.9249 - val_loss: 55.7351 - val_mae: 5.5016\n",
      "Epoch 43/100\n",
      "13/13 [==============================] - 0s 4ms/step - loss: 50.4233 - mae: 4.9562 - val_loss: 55.9678 - val_mae: 5.4714\n",
      "Epoch 44/100\n",
      "13/13 [==============================] - 0s 4ms/step - loss: 49.3457 - mae: 4.9952 - val_loss: 56.0094 - val_mae: 5.4562\n",
      "Epoch 45/100\n",
      "13/13 [==============================] - 0s 4ms/step - loss: 48.7495 - mae: 4.7606 - val_loss: 56.2156 - val_mae: 5.6308\n",
      "Epoch 46/100\n",
      "13/13 [==============================] - 0s 4ms/step - loss: 52.1626 - mae: 5.3929 - val_loss: 63.6307 - val_mae: 5.7226\n",
      "Epoch 47/100\n",
      "13/13 [==============================] - 0s 3ms/step - loss: 52.3061 - mae: 5.1232 - val_loss: 54.1775 - val_mae: 5.3909\n",
      "Epoch 48/100\n",
      "13/13 [==============================] - 0s 5ms/step - loss: 49.2054 - mae: 4.7994 - val_loss: 54.0104 - val_mae: 5.4305\n",
      "Epoch 49/100\n",
      "13/13 [==============================] - 0s 4ms/step - loss: 47.4467 - mae: 4.9811 - val_loss: 55.4676 - val_mae: 5.3412\n",
      "Epoch 50/100\n",
      "13/13 [==============================] - 0s 4ms/step - loss: 49.2205 - mae: 4.8481 - val_loss: 52.6020 - val_mae: 5.2843\n",
      "Epoch 51/100\n",
      "13/13 [==============================] - 0s 4ms/step - loss: 46.6518 - mae: 4.7326 - val_loss: 52.9957 - val_mae: 5.2461\n",
      "Epoch 52/100\n",
      "13/13 [==============================] - 0s 5ms/step - loss: 45.8784 - mae: 4.7011 - val_loss: 52.6737 - val_mae: 5.3602\n",
      "Epoch 53/100\n",
      "13/13 [==============================] - 0s 3ms/step - loss: 46.2176 - mae: 4.8788 - val_loss: 52.4882 - val_mae: 5.1870\n",
      "Epoch 54/100\n",
      "13/13 [==============================] - 0s 4ms/step - loss: 45.8247 - mae: 4.7133 - val_loss: 52.1447 - val_mae: 5.2269\n",
      "Epoch 55/100\n",
      "13/13 [==============================] - 0s 3ms/step - loss: 45.3479 - mae: 4.7340 - val_loss: 51.0654 - val_mae: 5.1030\n",
      "Epoch 56/100\n",
      "13/13 [==============================] - 0s 3ms/step - loss: 44.7804 - mae: 4.6493 - val_loss: 51.2870 - val_mae: 5.3171\n",
      "Epoch 57/100\n",
      "13/13 [==============================] - 0s 3ms/step - loss: 45.0120 - mae: 4.9011 - val_loss: 53.4883 - val_mae: 5.1793\n",
      "Epoch 58/100\n",
      "13/13 [==============================] - 0s 4ms/step - loss: 46.0032 - mae: 4.7646 - val_loss: 50.6337 - val_mae: 5.2315\n",
      "Epoch 59/100\n",
      "13/13 [==============================] - 0s 3ms/step - loss: 44.9730 - mae: 4.6734 - val_loss: 49.2845 - val_mae: 5.0412\n",
      "Epoch 60/100\n",
      "13/13 [==============================] - 0s 3ms/step - loss: 44.4799 - mae: 4.5959 - val_loss: 50.4909 - val_mae: 5.3124\n",
      "Epoch 61/100\n",
      "13/13 [==============================] - 0s 4ms/step - loss: 45.6709 - mae: 4.7338 - val_loss: 48.2012 - val_mae: 4.9593\n"
     ]
    },
    {
     "name": "stdout",
     "output_type": "stream",
     "text": [
      "Epoch 62/100\n",
      "13/13 [==============================] - 0s 4ms/step - loss: 43.2943 - mae: 4.6445 - val_loss: 48.4962 - val_mae: 5.1096\n",
      "Epoch 63/100\n",
      "13/13 [==============================] - 0s 4ms/step - loss: 43.1692 - mae: 4.6471 - val_loss: 48.7765 - val_mae: 5.0135\n",
      "Epoch 64/100\n",
      "13/13 [==============================] - 0s 4ms/step - loss: 42.6239 - mae: 4.5642 - val_loss: 48.3597 - val_mae: 5.0003\n",
      "Epoch 65/100\n",
      "13/13 [==============================] - 0s 4ms/step - loss: 42.6699 - mae: 4.5437 - val_loss: 47.7254 - val_mae: 5.0281\n",
      "Epoch 66/100\n",
      "13/13 [==============================] - 0s 3ms/step - loss: 42.0538 - mae: 4.6371 - val_loss: 48.2682 - val_mae: 4.9222\n",
      "Epoch 67/100\n",
      "13/13 [==============================] - 0s 4ms/step - loss: 41.9726 - mae: 4.5817 - val_loss: 48.3433 - val_mae: 5.0198\n",
      "Epoch 68/100\n",
      "13/13 [==============================] - 0s 3ms/step - loss: 41.5117 - mae: 4.4938 - val_loss: 46.7587 - val_mae: 4.9385\n",
      "Epoch 69/100\n",
      "13/13 [==============================] - 0s 4ms/step - loss: 40.9985 - mae: 4.4965 - val_loss: 46.9395 - val_mae: 5.0286\n",
      "Epoch 70/100\n",
      "13/13 [==============================] - 0s 4ms/step - loss: 40.9908 - mae: 4.5448 - val_loss: 46.5115 - val_mae: 4.9749\n",
      "Epoch 71/100\n",
      "13/13 [==============================] - 0s 4ms/step - loss: 40.8051 - mae: 4.5410 - val_loss: 46.1240 - val_mae: 4.8993\n",
      "Epoch 72/100\n",
      "13/13 [==============================] - 0s 3ms/step - loss: 39.9449 - mae: 4.4604 - val_loss: 46.6404 - val_mae: 5.1129\n",
      "Epoch 73/100\n",
      "13/13 [==============================] - 0s 4ms/step - loss: 41.2905 - mae: 4.5021 - val_loss: 47.5374 - val_mae: 4.8359\n",
      "Epoch 74/100\n",
      "13/13 [==============================] - 0s 3ms/step - loss: 40.2596 - mae: 4.6712 - val_loss: 47.6810 - val_mae: 4.7982\n",
      "Epoch 75/100\n",
      "13/13 [==============================] - 0s 4ms/step - loss: 41.4092 - mae: 4.5082 - val_loss: 45.3113 - val_mae: 4.9040\n",
      "Epoch 76/100\n",
      "13/13 [==============================] - 0s 3ms/step - loss: 39.8347 - mae: 4.4273 - val_loss: 46.6660 - val_mae: 5.2069\n",
      "Epoch 77/100\n",
      "13/13 [==============================] - 0s 3ms/step - loss: 39.2833 - mae: 4.4801 - val_loss: 44.8463 - val_mae: 4.8228\n",
      "Epoch 78/100\n",
      "13/13 [==============================] - 0s 3ms/step - loss: 38.3192 - mae: 4.4017 - val_loss: 44.9973 - val_mae: 4.7435\n",
      "Epoch 79/100\n",
      "13/13 [==============================] - 0s 4ms/step - loss: 38.6822 - mae: 4.3497 - val_loss: 45.4685 - val_mae: 4.7749\n",
      "Epoch 80/100\n",
      "13/13 [==============================] - 0s 3ms/step - loss: 38.8987 - mae: 4.5545 - val_loss: 45.2708 - val_mae: 4.6602\n",
      "Epoch 81/100\n",
      "13/13 [==============================] - 0s 4ms/step - loss: 38.1743 - mae: 4.2406 - val_loss: 45.7773 - val_mae: 5.1744\n",
      "Epoch 82/100\n",
      "13/13 [==============================] - 0s 4ms/step - loss: 38.3384 - mae: 4.3990 - val_loss: 43.5980 - val_mae: 4.7346\n",
      "Epoch 83/100\n",
      "13/13 [==============================] - 0s 3ms/step - loss: 37.3123 - mae: 4.3867 - val_loss: 44.2483 - val_mae: 4.6125\n",
      "Epoch 84/100\n",
      "13/13 [==============================] - 0s 3ms/step - loss: 38.1292 - mae: 4.4030 - val_loss: 42.3925 - val_mae: 4.6488\n",
      "Epoch 85/100\n",
      "13/13 [==============================] - 0s 3ms/step - loss: 37.3726 - mae: 4.2992 - val_loss: 43.9884 - val_mae: 4.6709\n",
      "Epoch 86/100\n",
      "13/13 [==============================] - 0s 4ms/step - loss: 36.9904 - mae: 4.1766 - val_loss: 42.9977 - val_mae: 4.8835\n",
      "Epoch 87/100\n",
      "13/13 [==============================] - 0s 3ms/step - loss: 36.6601 - mae: 4.3872 - val_loss: 43.0691 - val_mae: 4.5599\n",
      "Epoch 88/100\n",
      "13/13 [==============================] - 0s 3ms/step - loss: 36.8420 - mae: 4.3373 - val_loss: 42.3236 - val_mae: 4.6705\n",
      "Epoch 89/100\n",
      "13/13 [==============================] - 0s 3ms/step - loss: 35.8640 - mae: 4.0757 - val_loss: 42.6378 - val_mae: 4.8789\n",
      "Epoch 90/100\n",
      "13/13 [==============================] - 0s 4ms/step - loss: 36.5210 - mae: 4.3742 - val_loss: 45.0858 - val_mae: 4.6018\n",
      "Epoch 91/100\n",
      "13/13 [==============================] - 0s 3ms/step - loss: 37.8675 - mae: 4.4244 - val_loss: 43.2675 - val_mae: 4.5102\n",
      "Epoch 92/100\n",
      "13/13 [==============================] - 0s 4ms/step - loss: 35.5537 - mae: 4.1604 - val_loss: 42.8496 - val_mae: 4.9614\n",
      "Epoch 93/100\n",
      "13/13 [==============================] - 0s 4ms/step - loss: 36.2348 - mae: 4.3334 - val_loss: 40.2492 - val_mae: 4.5111\n",
      "Epoch 94/100\n",
      "13/13 [==============================] - 0s 3ms/step - loss: 34.9803 - mae: 4.2345 - val_loss: 42.2950 - val_mae: 4.5707\n",
      "Epoch 95/100\n",
      "13/13 [==============================] - 0s 3ms/step - loss: 35.1026 - mae: 4.1776 - val_loss: 40.8210 - val_mae: 4.5362\n",
      "Epoch 96/100\n",
      "13/13 [==============================] - 0s 3ms/step - loss: 35.0010 - mae: 4.2322 - val_loss: 40.7129 - val_mae: 4.4913\n",
      "Epoch 97/100\n",
      "13/13 [==============================] - 0s 4ms/step - loss: 34.5085 - mae: 4.1985 - val_loss: 40.8405 - val_mae: 4.4595\n",
      "Epoch 98/100\n",
      "13/13 [==============================] - 0s 3ms/step - loss: 34.6983 - mae: 4.1827 - val_loss: 40.1045 - val_mae: 4.5387\n",
      "Epoch 99/100\n",
      "13/13 [==============================] - 0s 3ms/step - loss: 34.9060 - mae: 4.1677 - val_loss: 40.2474 - val_mae: 4.6981\n",
      "Epoch 100/100\n",
      "13/13 [==============================] - 0s 3ms/step - loss: 34.4999 - mae: 4.1759 - val_loss: 39.6604 - val_mae: 4.5352\n"
     ]
    }
   ],
   "source": [
    "history=  model.fit(x_train, y_train, epochs = EPOCHS, validation_data = (x_test, y_test) , callbacks = [es])\n",
    "hist = pd.DataFrame(history.history)\n"
   ]
  },
  {
   "cell_type": "code",
   "execution_count": 30,
   "id": "c398af84",
   "metadata": {},
   "outputs": [
    {
     "name": "stdout",
     "output_type": "stream",
     "text": [
      "4/4 [==============================] - 0s 0s/step\n"
     ]
    }
   ],
   "source": [
    "y_pred = model.predict(x_test)"
   ]
  },
  {
   "cell_type": "code",
   "execution_count": 33,
   "id": "b2f99db8",
   "metadata": {},
   "outputs": [
    {
     "data": {
      "text/plain": [
       "<matplotlib.legend.Legend at 0x21b5e3cdee0>"
      ]
     },
     "execution_count": 33,
     "metadata": {},
     "output_type": "execute_result"
    },
    {
     "data": {
      "image/png": "[encoded data removed]",
      "text/plain": [
       "<Figure size 720x432 with 2 Axes>"
      ]
     },
     "metadata": {
      "needs_background": "light"
     },
     "output_type": "display_data"
    }
   ],
   "source": [
    "plt.figure(figsize=(10,6))\n",
    "plt.subplot(1,2,1)\n",
    "plt.plot(hist.loss, label = \"loss\")\n",
    "plt.plot(hist.val_loss, label = \"val_loss\")\n",
    "plt.xlabel(\"epoch\")\n",
    "plt.ylabel(\"loss\")\n",
    "plt.legend()\n",
    "\n",
    "plt.subplot(1,2,2)\n",
    "plt.plot(hist.mae, label = \"mae\")\n",
    "plt.plot(hist.mae, label = \"val_mae\")\n",
    "plt.xlabel(\"epoch\")\n",
    "plt.ylabel(\"mae\")\n",
    "plt.legend()"
   ]
  },
  {
   "cell_type": "code",
   "execution_count": 32,
   "id": "1cfeb5a9",
   "metadata": {},
   "outputs": [
    {
     "name": "stdout",
     "output_type": "stream",
     "text": [
      "MSE: 0     15694.144531\n",
      "1      4695.451172\n",
      "2      1802.965454\n",
      "3       932.948120\n",
      "4       427.850311\n",
      "          ...     \n",
      "95       35.000965\n",
      "96       34.508541\n",
      "97       34.698292\n",
      "98       34.905975\n",
      "99       34.499912\n",
      "Name: loss, Length: 100, dtype: float64, \n",
      " MAE: 0     119.269928\n",
      "1      62.017609\n",
      "2      38.587669\n",
      "3      26.633026\n",
      "4      16.943041\n",
      "         ...    \n",
      "95      4.232219\n",
      "96      4.198522\n",
      "97      4.182731\n",
      "98      4.167716\n",
      "99      4.175922\n",
      "Name: mae, Length: 100, dtype: float64\n"
     ]
    }
   ],
   "source": [
    "print(f\"MSE: {hist.loss}, \\n MAE: {hist.mae}\")"
   ]
  },
  {
   "cell_type": "code",
   "execution_count": null,
   "id": "099ea64a",
   "metadata": {},
   "outputs": [],
   "source": [
    "# oczywiście - dążymy do jak najmniejszego błędu, manipulujemy warstwami aż wykres będzie jak najbardziej wypłaszczony"
   ]
  }
 ],
 "metadata": {
  "kernelspec": {
   "display_name": "Python 3 (ipykernel)",
   "language": "python",
   "name": "python3"
  },
  "language_info": {
   "codemirror_mode": {
    "name": "ipython",
    "version": 3
   },
   "file_extension": ".py",
   "mimetype": "text/x-python",
   "name": "python",
   "nbconvert_exporter": "python",
   "pygments_lexer": "ipython3",
   "version": "3.9.12"
  }
 },
 "nbformat": 4,
 "nbformat_minor": 5
}

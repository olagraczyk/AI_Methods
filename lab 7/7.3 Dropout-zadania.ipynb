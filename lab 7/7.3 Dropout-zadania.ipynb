{
 "cells": [
  {
   "cell_type": "markdown",
   "id": "60bbf339",
   "metadata": {},
   "source": [
    "1)jeśli sieć ma np 200 neuronów, ale my wybierzemy do naszego modelu niecały, np tylko 100 wejściowych, może to doprowadić do tego że ona sie nauczy w sposób nietypowy. Np jeden neuron wyspecjalizuje sie w wykrywaniu jednego konkretnego elementu/ zależności.\n",
    "\n",
    "My byśmy chcieli, zmusić sieć do generalizowania, tak aby nie e=jeden neuron rozpoznawał rozalię, a cała sieć.\n",
    "\n",
    "2) Dropout(0.2) (20%) tzn sieć pomija losowo wybrane 20% wag - połączeń. Tzn ona nie bierze ich pod uwagę\n",
    "\n",
    "3) dzięki temu, że te połączenia w każdej iteracji będą sie zmieniać i przeplatać. unikniemy problemu że jeden neuon wprost się nauczy całej cechy.\n",
    "\n",
    "= wprowadzenie dropautu sprawia, że przeuczenie jest mniejsze"
   ]
  },
  {
   "cell_type": "code",
   "execution_count": 10,
   "id": "d5074bd2",
   "metadata": {},
   "outputs": [],
   "source": [
    "import tensorflow as tf\n",
    "import pandas as pd\n",
    "from tensorflow.keras.datasets import mnist\n",
    "from tensorflow.keras.models import Sequential\n",
    "from tensorflow.keras.callbacks import EarlyStopping\n",
    "from tensorflow.keras.layers import Dense, Dropout, Flatten\n",
    "import matplotlib.pyplot as plt\n",
    "import os \n",
    "os.environ[\"KMP_DUPLICATE_LIB_OK\"]=\"TRUE\"\n",
    "os.environ['CUDA_VISIBLE_DEVICES'] = '-1'\n",
    "\n",
    "es = EarlyStopping(monitor = \"val_loss\", mode = \"min\", patience = 5)\n",
    "EPOCHS = 20\n",
    "\n",
    "#wczytanie danych \n",
    "(x_train, y_train), (x_test, y_test) = tf.keras.datasets.mnist.load_data()\n",
    "\n",
    "# Wczytaj zbiór MNIST i znormalizuj dane (jak na poprzednich zajęciach) - podziel na 255\n",
    "# Stwórz dwa modele. Każdy z nich powinien mieć jedną warstwę ukrytą o 256 neuronach. \n",
    "# Różnica polega na dołączeniu w jednym z nich warstwy Dropout zaraz po \n",
    "# warstwie ukrytej - Dropout(0.2).\n",
    "# Wytrenuj oba modele\n",
    "# Stórz wykresy porównujące val_acc i acc obu modeli"
   ]
  },
  {
   "cell_type": "code",
   "execution_count": 3,
   "id": "ff8be48d",
   "metadata": {},
   "outputs": [],
   "source": [
    "# normalizacja danych\n",
    "x_train = x_train.astype('float32') / 255\n",
    "x_test = x_test.astype('float32') / 255"
   ]
  },
  {
   "cell_type": "markdown",
   "id": "f1f88548",
   "metadata": {},
   "source": [
    "- flatten zamienia nam dwuwymiarowy 28x28 na jedno (784)\n",
    "\n",
    "- funkcje straty w tenorflow\n",
    "    jeśli label to cyfry, np od 0-9 i przykładowy label wygląda np [7]\n",
    "    to kożystamy ze 'sparse_categorical_crossentropy' i wtedy funkcja aktywacji w ostatniej \n",
    "    warstwie musi być softmax\n",
    "    \n",
    "    categorical crossentropy\n",
    "    jeśli są w formie np [0,0,0,0,0,0,1,0,0] czyli tam gdzie jest jedynka pojawia się kolejny label.\n",
    "    Tu funkcją aktywacji będzie: softmax\n",
    "        \n",
    "    binary\n",
    "    label jest w formie 1 lub 0, np [0] o wtedy\n",
    "    funkcją aktywacji będzie signoid"
   ]
  },
  {
   "cell_type": "code",
   "execution_count": 7,
   "id": "c1619ddf",
   "metadata": {},
   "outputs": [
    {
     "name": "stdout",
     "output_type": "stream",
     "text": [
      "Model: \"sequential_3\"\n",
      "_________________________________________________________________\n",
      " Layer (type)                Output Shape              Param #   \n",
      "=================================================================\n",
      " flatten_1 (Flatten)         (None, 784)               0         \n",
      "                                                                 \n",
      " dense_3 (Dense)             (None, 256)               200960    \n",
      "                                                                 \n",
      " dense_4 (Dense)             (None, 10)                2570      \n",
      "                                                                 \n",
      "=================================================================\n",
      "Total params: 203530 (795.04 KB)\n",
      "Trainable params: 203530 (795.04 KB)\n",
      "Non-trainable params: 0 (0.00 Byte)\n",
      "_________________________________________________________________\n"
     ]
    }
   ],
   "source": [
    "# no dropout\n",
    "nodrop = Sequential()\n",
    "nodrop.add(Flatten(input_shape=(28,28)))\n",
    "nodrop.add(Dense(256, activation = 'relu'))\n",
    "nodrop.add(Dense(10, activation = 'softmax'))\n",
    "\n",
    "nodrop.compile(optimizer='adam',\n",
    "              loss='sparse_categorical_crossentropy',\n",
    "              metrics=['accuracy'])\n",
    "\n",
    "nodrop.summary()"
   ]
  },
  {
   "cell_type": "code",
   "execution_count": 11,
   "id": "4cdf8f17",
   "metadata": {},
   "outputs": [
    {
     "name": "stdout",
     "output_type": "stream",
     "text": [
      "Epoch 1/20\n",
      "1875/1875 [==============================] - 6s 3ms/step - loss: 5.0816 - accuracy: 0.9886 - val_loss: 20.3772 - val_accuracy: 0.9746\n",
      "Epoch 2/20\n",
      "1875/1875 [==============================] - 5s 3ms/step - loss: 2.3116 - accuracy: 0.9936 - val_loss: 18.9933 - val_accuracy: 0.9771\n",
      "Epoch 3/20\n",
      "1875/1875 [==============================] - 6s 3ms/step - loss: 2.3051 - accuracy: 0.9935 - val_loss: 19.5233 - val_accuracy: 0.9729\n",
      "Epoch 4/20\n",
      "1875/1875 [==============================] - 5s 3ms/step - loss: 2.2641 - accuracy: 0.9936 - val_loss: 17.7665 - val_accuracy: 0.9775\n",
      "Epoch 5/20\n",
      "1875/1875 [==============================] - 5s 3ms/step - loss: 1.8602 - accuracy: 0.9945 - val_loss: 15.8304 - val_accuracy: 0.9781\n",
      "Epoch 6/20\n",
      "1875/1875 [==============================] - 5s 3ms/step - loss: 1.8641 - accuracy: 0.9946 - val_loss: 18.8355 - val_accuracy: 0.9757\n",
      "Epoch 7/20\n",
      "1875/1875 [==============================] - 5s 3ms/step - loss: 1.6654 - accuracy: 0.9950 - val_loss: 18.8095 - val_accuracy: 0.9785\n",
      "Epoch 8/20\n",
      "1875/1875 [==============================] - 5s 3ms/step - loss: 1.8335 - accuracy: 0.9947 - val_loss: 18.0543 - val_accuracy: 0.9786\n",
      "Epoch 9/20\n",
      "1875/1875 [==============================] - 5s 3ms/step - loss: 1.6032 - accuracy: 0.9951 - val_loss: 17.9682 - val_accuracy: 0.9777\n",
      "Epoch 10/20\n",
      "1875/1875 [==============================] - 5s 3ms/step - loss: 1.6633 - accuracy: 0.9953 - val_loss: 16.7814 - val_accuracy: 0.9782\n"
     ]
    }
   ],
   "source": [
    "history_nodrop = nodrop.fit(x_train, y_train, epochs = EPOCHS, validation_data=(x_test, y_test), callbacks = [es])\n",
    "hist = pd.DataFrame(history_nodrop.history)"
   ]
  },
  {
   "cell_type": "code",
   "execution_count": 12,
   "id": "4fcdb81a",
   "metadata": {},
   "outputs": [
    {
     "name": "stdout",
     "output_type": "stream",
     "text": [
      "Model: \"sequential_4\"\n",
      "_________________________________________________________________\n",
      " Layer (type)                Output Shape              Param #   \n",
      "=================================================================\n",
      " flatten_2 (Flatten)         (None, 784)               0         \n",
      "                                                                 \n",
      " dense_5 (Dense)             (None, 256)               200960    \n",
      "                                                                 \n",
      " dropout (Dropout)           (None, 256)               0         \n",
      "                                                                 \n",
      " dense_6 (Dense)             (None, 10)                2570      \n",
      "                                                                 \n",
      "=================================================================\n",
      "Total params: 203530 (795.04 KB)\n",
      "Trainable params: 203530 (795.04 KB)\n",
      "Non-trainable params: 0 (0.00 Byte)\n",
      "_________________________________________________________________\n"
     ]
    }
   ],
   "source": [
    "# dropout\n",
    "drop = Sequential()\n",
    "drop.add(Flatten(input_shape=(28,28)))\n",
    "drop.add(Dense(256, activation = 'relu'))\n",
    "drop.add(Dropout(0.2))\n",
    "drop.add(Dense(10, activation = 'softmax'))\n",
    "\n",
    "drop.compile(optimizer='adam',\n",
    "              loss='sparse_categorical_crossentropy',\n",
    "              metrics=['accuracy'])\n",
    "\n",
    "drop.summary()"
   ]
  },
  {
   "cell_type": "code",
   "execution_count": 13,
   "id": "e6fd1813",
   "metadata": {},
   "outputs": [
    {
     "name": "stdout",
     "output_type": "stream",
     "text": [
      "Epoch 1/20\n",
      "1875/1875 [==============================] - 5s 3ms/step - loss: 1.4892 - accuracy: 0.9954 - val_loss: 23.3500 - val_accuracy: 0.9740\n",
      "Epoch 2/20\n",
      "1875/1875 [==============================] - 5s 3ms/step - loss: 1.4132 - accuracy: 0.9956 - val_loss: 21.4480 - val_accuracy: 0.9769\n",
      "Epoch 3/20\n",
      "1875/1875 [==============================] - 5s 3ms/step - loss: 1.6118 - accuracy: 0.9953 - val_loss: 18.3303 - val_accuracy: 0.9781\n",
      "Epoch 4/20\n",
      "1875/1875 [==============================] - 5s 3ms/step - loss: 1.4878 - accuracy: 0.9958 - val_loss: 17.5953 - val_accuracy: 0.9788\n",
      "Epoch 5/20\n",
      "1875/1875 [==============================] - 5s 3ms/step - loss: 1.2278 - accuracy: 0.9959 - val_loss: 20.5573 - val_accuracy: 0.9781\n",
      "Epoch 6/20\n",
      "1875/1875 [==============================] - 5s 3ms/step - loss: 1.5508 - accuracy: 0.9959 - val_loss: 17.8531 - val_accuracy: 0.9775\n",
      "Epoch 7/20\n",
      "1875/1875 [==============================] - 5s 3ms/step - loss: 1.2430 - accuracy: 0.9965 - val_loss: 20.0140 - val_accuracy: 0.9768\n",
      "Epoch 8/20\n",
      "1875/1875 [==============================] - 5s 3ms/step - loss: 1.1488 - accuracy: 0.9966 - val_loss: 21.4077 - val_accuracy: 0.9753\n",
      "Epoch 9/20\n",
      "1875/1875 [==============================] - 5s 3ms/step - loss: 1.2727 - accuracy: 0.9962 - val_loss: 21.3575 - val_accuracy: 0.9765\n"
     ]
    }
   ],
   "source": [
    "history_drop = nodrop.fit(x_train, y_train, epochs = EPOCHS, validation_data=(x_test, y_test), callbacks = [es])\n",
    "hist_drop = pd.DataFrame(history_drop.history)"
   ]
  },
  {
   "cell_type": "code",
   "execution_count": 19,
   "id": "ae2b4e6b",
   "metadata": {},
   "outputs": [
    {
     "data": {
      "text/plain": [
       "<matplotlib.legend.Legend at 0x291039088e0>"
      ]
     },
     "execution_count": 19,
     "metadata": {},
     "output_type": "execute_result"
    },
    {
     "data": {
      "image/png": "[encoded data removed]",
      "text/plain": [
       "<Figure size 432x288 with 1 Axes>"
      ]
     },
     "metadata": {
      "needs_background": "light"
     },
     "output_type": "display_data"
    }
   ],
   "source": [
    "plt.plot()\n",
    "plt.plot(hist.accuracy, label = \"no dropout accuracy\")\n",
    "plt.plot(hist.val_accuracy, label = \"no dropout val_accuracy\")\n",
    "plt.xlabel(\"epoch\")\n",
    "plt.ylabel(\"accuracy\")\n",
    "\n",
    "\n",
    "plt.legend()"
   ]
  },
  {
   "cell_type": "code",
   "execution_count": 18,
   "id": "1eff82cb",
   "metadata": {},
   "outputs": [
    {
     "data": {
      "text/plain": [
       "<matplotlib.legend.Legend at 0x29103acc220>"
      ]
     },
     "execution_count": 18,
     "metadata": {},
     "output_type": "execute_result"
    },
    {
     "data": {
      "image/png": "[encoded data removed]",
      "text/plain": [
       "<Figure size 432x288 with 1 Axes>"
      ]
     },
     "metadata": {
      "needs_background": "light"
     },
     "output_type": "display_data"
    }
   ],
   "source": [
    "plt.plot()\n",
    "plt.plot(hist_drop.accuracy, label = \"drop accuracy\")\n",
    "plt.plot(hist_drop.val_accuracy, label = \"drop val_accuracy\")\n",
    "plt.xlabel(\"epoch\")\n",
    "plt.ylabel(\"accuracy\")\n",
    "\n",
    "\n",
    "plt.legend()"
   ]
  },
  {
   "cell_type": "code",
   "execution_count": null,
   "id": "032238b3",
   "metadata": {},
   "outputs": [],
   "source": [
    "# mniejsza różnica = mniejsze przeuczenie"
   ]
  }
 ],
 "metadata": {
  "kernelspec": {
   "display_name": "Python 3 (ipykernel)",
   "language": "python",
   "name": "python3"
  },
  "language_info": {
   "codemirror_mode": {
    "name": "ipython",
    "version": 3
   },
   "file_extension": ".py",
   "mimetype": "text/x-python",
   "name": "python",
   "nbconvert_exporter": "python",
   "pygments_lexer": "ipython3",
   "version": "3.9.12"
  }
 },
 "nbformat": 4,
 "nbformat_minor": 5
}

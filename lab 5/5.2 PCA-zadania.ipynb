{
 "cells": [
  {
   "cell_type": "code",
   "execution_count": 1,
   "id": "ed5a564c",
   "metadata": {},
   "outputs": [],
   "source": [
    "import numpy as np\n",
    "import matplotlib.pyplot as plt\n",
    "from sklearn.datasets import load_digits\n",
    "from sklearn.decomposition import PCA\n",
    "from sklearn.model_selection import train_test_split\n",
    "from sklearn.neighbors import KNeighborsClassifier\n",
    "from sklearn.metrics import accuracy_score"
   ]
  },
  {
   "cell_type": "code",
   "execution_count": 3,
   "id": "ffbf1b4c",
   "metadata": {},
   "outputs": [
    {
     "data": {
      "text/plain": [
       "(-0.5, 7.5, 7.5, -0.5)"
      ]
     },
     "execution_count": 3,
     "metadata": {},
     "output_type": "execute_result"
    },
    {
     "data": {
      "image/png": "[encoded data removed]",
      "text/plain": [
       "<Figure size 432x288 with 1 Axes>"
      ]
     },
     "metadata": {
      "needs_background": "light"
     },
     "output_type": "display_data"
    }
   ],
   "source": [
    "#wczytaj zbiór digits i podziel go na X i y\n",
    "digits = load_digits()\n",
    "X = digits.data\n",
    "y = digits.target\n",
    "\n",
    "#wyświetlenie pojedyńczego elementu ze zbioru, w tym przypadku o indeksie 0\n",
    "sample_image = digits.images[0]\n",
    "\n",
    "plt.imshow(sample_image, cmap='gray')\n",
    "plt.title(f'Klasa: {digits.target[0]}', fontsize = 8)\n",
    "plt.axis(\"off\")\n"
   ]
  },
  {
   "cell_type": "code",
   "execution_count": 4,
   "id": "8eb5a5ed",
   "metadata": {},
   "outputs": [],
   "source": [
    "#podziel dane na treningowe i testowe\n",
    "\n",
    "X_train, X_test, y_train, y_test = train_test_split(X, y, test_size= 0.2, random_state=42)"
   ]
  },
  {
   "cell_type": "code",
   "execution_count": 5,
   "id": "27523ee3",
   "metadata": {},
   "outputs": [],
   "source": [
    "#PCA wyznaczone dla 5 komponentów\n",
    "pca = PCA(n_components=5) \n",
    "X_train_pca = pca.fit_transform(X_train)\n",
    "X_test_pca = pca.transform(X_test)\n"
   ]
  },
  {
   "cell_type": "code",
   "execution_count": 9,
   "id": "4135bc72",
   "metadata": {},
   "outputs": [
    {
     "name": "stdout",
     "output_type": "stream",
     "text": [
      "0.9361111111111111\n"
     ]
    }
   ],
   "source": [
    "#stwórz klasyfikator kNN dla 3 sąsiadów, naucz go na zbiorze X_train_pca i zrób predykcję na X_test_pca\n",
    "from sklearn.neighbors import KNeighborsClassifier\n",
    "\n",
    "model = KNeighborsClassifier(n_neighbors = 3)\n",
    "model.fit(X_train_pca, y_train)\n",
    "y_pred_pca = model.predict(X_test_pca)\n",
    "acc_pca=accuracy_score(y_test, y_pred_pca)\n",
    "print(acc_pca)"
   ]
  },
  {
   "cell_type": "code",
   "execution_count": 10,
   "id": "9b9571fa",
   "metadata": {},
   "outputs": [
    {
     "name": "stdout",
     "output_type": "stream",
     "text": [
      "0.9833333333333333\n"
     ]
    }
   ],
   "source": [
    "#stwórz klasyfikator kNN dla 3 sąsiadów, naucz go na zbiorze X_train i zrób predykcję na X_test\n",
    "model = KNeighborsClassifier(n_neighbors = 3)\n",
    "model.fit(X_train, y_train)\n",
    "y_pred = model.predict(X_test)\n",
    "acc=accuracy_score(y_test, y_pred)\n",
    "print(acc)"
   ]
  },
  {
   "cell_type": "code",
   "execution_count": 11,
   "id": "f7c2eda7",
   "metadata": {},
   "outputs": [
    {
     "name": "stdout",
     "output_type": "stream",
     "text": [
      "Dokładność klasyfikacji na danych zredukowanych za pomocą PCA: 0.94\n",
      "Dokładność klasyfikacji na pełnych danych: 0.98\n"
     ]
    }
   ],
   "source": [
    "#policz accuracy dla obu klasyfikatorów\n",
    "accuracy_pca = acc_pca #todo\n",
    "accuracy_full = acc#todo\n",
    "\n",
    "print(f\"Dokładność klasyfikacji na danych zredukowanych za pomocą PCA: {accuracy_pca:.2f}\")\n",
    "print(f\"Dokładność klasyfikacji na pełnych danych: {accuracy_full:.2f}\")\n"
   ]
  },
  {
   "cell_type": "code",
   "execution_count": 14,
   "id": "c997d422",
   "metadata": {},
   "outputs": [
    {
     "name": "stdout",
     "output_type": "stream",
     "text": [
      "Dokładność klasyfikacji na danych zredukowanych za pomocą PCA: 0.31, komponentów: 1\n",
      "Dokładność klasyfikacji na danych zredukowanych za pomocą PCA: 0.60, komponentów: 2\n",
      "Dokładność klasyfikacji na danych zredukowanych za pomocą PCA: 0.78, komponentów: 3\n",
      "Dokładność klasyfikacji na danych zredukowanych za pomocą PCA: 0.88, komponentów: 4\n",
      "Dokładność klasyfikacji na danych zredukowanych za pomocą PCA: 0.94, komponentów: 5\n",
      "Dokładność klasyfikacji na danych zredukowanych za pomocą PCA: 0.95, komponentów: 6\n",
      "Dokładność klasyfikacji na danych zredukowanych za pomocą PCA: 0.96, komponentów: 7\n",
      "Dokładność klasyfikacji na danych zredukowanych za pomocą PCA: 0.96, komponentów: 8\n",
      "Dokładność klasyfikacji na danych zredukowanych za pomocą PCA: 0.97, komponentów: 9\n",
      "Dokładność klasyfikacji na danych zredukowanych za pomocą PCA: 0.98, komponentów: 10\n",
      "Dokładność klasyfikacji na danych zredukowanych za pomocą PCA: 0.98, komponentów: 11\n",
      "Dokładność klasyfikacji na danych zredukowanych za pomocą PCA: 0.98, komponentów: 12\n",
      "Dokładność klasyfikacji na danych zredukowanych za pomocą PCA: 0.98, komponentów: 13\n",
      "Dokładność klasyfikacji na danych zredukowanych za pomocą PCA: 0.98, komponentów: 14\n",
      "Dokładność klasyfikacji na danych zredukowanych za pomocą PCA: 0.98, komponentów: 15\n",
      "Dokładność klasyfikacji na danych zredukowanych za pomocą PCA: 0.98, komponentów: 16\n",
      "Dokładność klasyfikacji na danych zredukowanych za pomocą PCA: 0.99, komponentów: 17\n",
      "Dokładność klasyfikacji na danych zredukowanych za pomocą PCA: 0.98, komponentów: 18\n",
      "Dokładność klasyfikacji na danych zredukowanych za pomocą PCA: 0.98, komponentów: 19\n",
      "Dokładność klasyfikacji na danych zredukowanych za pomocą PCA: 0.98, komponentów: 20\n",
      "Dokładność klasyfikacji na danych zredukowanych za pomocą PCA: 0.98, komponentów: 21\n",
      "Dokładność klasyfikacji na danych zredukowanych za pomocą PCA: 0.99, komponentów: 22\n",
      "Dokładność klasyfikacji na danych zredukowanych za pomocą PCA: 0.99, komponentów: 23\n",
      "Dokładność klasyfikacji na danych zredukowanych za pomocą PCA: 0.98, komponentów: 24\n",
      "Dokładność klasyfikacji na danych zredukowanych za pomocą PCA: 0.98, komponentów: 25\n",
      "Dokładność klasyfikacji na danych zredukowanych za pomocą PCA: 0.98, komponentów: 26\n",
      "Dokładność klasyfikacji na danych zredukowanych za pomocą PCA: 0.98, komponentów: 27\n",
      "Dokładność klasyfikacji na danych zredukowanych za pomocą PCA: 0.98, komponentów: 28\n",
      "Dokładność klasyfikacji na danych zredukowanych za pomocą PCA: 0.98, komponentów: 29\n",
      "Dokładność klasyfikacji na danych zredukowanych za pomocą PCA: 0.98, komponentów: 30\n",
      "Dokładność klasyfikacji na danych zredukowanych za pomocą PCA: 0.98, komponentów: 31\n",
      "Dokładność klasyfikacji na danych zredukowanych za pomocą PCA: 0.98, komponentów: 32\n",
      "Dokładność klasyfikacji na danych zredukowanych za pomocą PCA: 0.98, komponentów: 33\n",
      "Dokładność klasyfikacji na danych zredukowanych za pomocą PCA: 0.98, komponentów: 34\n",
      "Dokładność klasyfikacji na danych zredukowanych za pomocą PCA: 0.98, komponentów: 35\n",
      "Dokładność klasyfikacji na danych zredukowanych za pomocą PCA: 0.98, komponentów: 36\n",
      "Dokładność klasyfikacji na danych zredukowanych za pomocą PCA: 0.98, komponentów: 37\n",
      "Dokładność klasyfikacji na danych zredukowanych za pomocą PCA: 0.98, komponentów: 38\n",
      "Dokładność klasyfikacji na danych zredukowanych za pomocą PCA: 0.98, komponentów: 39\n",
      "Dokładność klasyfikacji na danych zredukowanych za pomocą PCA: 0.98, komponentów: 40\n",
      "Dokładność klasyfikacji na danych zredukowanych za pomocą PCA: 0.98, komponentów: 41\n",
      "Dokładność klasyfikacji na danych zredukowanych za pomocą PCA: 0.98, komponentów: 42\n",
      "Dokładność klasyfikacji na danych zredukowanych za pomocą PCA: 0.98, komponentów: 43\n",
      "Dokładność klasyfikacji na danych zredukowanych za pomocą PCA: 0.98, komponentów: 44\n",
      "Dokładność klasyfikacji na danych zredukowanych za pomocą PCA: 0.98, komponentów: 45\n",
      "Dokładność klasyfikacji na danych zredukowanych za pomocą PCA: 0.98, komponentów: 46\n",
      "Dokładność klasyfikacji na danych zredukowanych za pomocą PCA: 0.98, komponentów: 47\n",
      "Dokładność klasyfikacji na danych zredukowanych za pomocą PCA: 0.98, komponentów: 48\n",
      "Dokładność klasyfikacji na danych zredukowanych za pomocą PCA: 0.98, komponentów: 49\n",
      "Dokładność klasyfikacji na danych zredukowanych za pomocą PCA: 0.98, komponentów: 50\n",
      "Dokładność klasyfikacji na danych zredukowanych za pomocą PCA: 0.98, komponentów: 51\n",
      "Dokładność klasyfikacji na danych zredukowanych za pomocą PCA: 0.98, komponentów: 52\n",
      "Dokładność klasyfikacji na danych zredukowanych za pomocą PCA: 0.98, komponentów: 53\n",
      "Dokładność klasyfikacji na danych zredukowanych za pomocą PCA: 0.98, komponentów: 54\n",
      "Dokładność klasyfikacji na danych zredukowanych za pomocą PCA: 0.98, komponentów: 55\n",
      "Dokładność klasyfikacji na danych zredukowanych za pomocą PCA: 0.98, komponentów: 56\n",
      "Dokładność klasyfikacji na danych zredukowanych za pomocą PCA: 0.98, komponentów: 57\n",
      "Dokładność klasyfikacji na danych zredukowanych za pomocą PCA: 0.98, komponentów: 58\n",
      "Dokładność klasyfikacji na danych zredukowanych za pomocą PCA: 0.98, komponentów: 59\n",
      "Dokładność klasyfikacji na danych zredukowanych za pomocą PCA: 0.98, komponentów: 60\n",
      "Dokładność klasyfikacji na danych zredukowanych za pomocą PCA: 0.98, komponentów: 61\n",
      "Dokładność klasyfikacji na danych zredukowanych za pomocą PCA: 0.98, komponentów: 62\n",
      "Dokładność klasyfikacji na danych zredukowanych za pomocą PCA: 0.98, komponentów: 63\n",
      "Dokładność klasyfikacji na danych zredukowanych za pomocą PCA: 0.98, komponentów: 64\n"
     ]
    }
   ],
   "source": [
    "#wykorzystując pętlę for sprawdź skuteczność klasyfikacji za pomocą kNN i PCA dla liczby komponentów od 1 do 64\n",
    "for i in range(1,64+1):\n",
    "    #todo\n",
    "    pca = PCA(n_components=i) \n",
    "    X_train_pca = pca.fit_transform(X_train)\n",
    "    X_test_pca = pca.transform(X_test)\n",
    "    \n",
    "    model = KNeighborsClassifier(n_neighbors = 3)\n",
    "    model.fit(X_train_pca, y_train)\n",
    "    y_pred_pca = model.predict(X_test_pca)\n",
    "    acc_pca=accuracy_score(y_test, y_pred_pca)\n",
    "    print(f\"Dokładność klasyfikacji na danych zredukowanych za pomocą PCA: {acc_pca:.2f}, komponentów: {i}\")"
   ]
  },
  {
   "cell_type": "code",
   "execution_count": null,
   "id": "93f78380",
   "metadata": {},
   "outputs": [],
   "source": []
  }
 ],
 "metadata": {
  "kernelspec": {
   "display_name": "Python 3 (ipykernel)",
   "language": "python",
   "name": "python3"
  },
  "language_info": {
   "codemirror_mode": {
    "name": "ipython",
    "version": 3
   },
   "file_extension": ".py",
   "mimetype": "text/x-python",
   "name": "python",
   "nbconvert_exporter": "python",
   "pygments_lexer": "ipython3",
   "version": "3.9.12"
  }
 },
 "nbformat": 4,
 "nbformat_minor": 5
}

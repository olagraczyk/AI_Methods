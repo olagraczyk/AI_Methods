{
 "cells": [
  {
   "cell_type": "code",
   "execution_count": 1,
   "id": "42c14638",
   "metadata": {},
   "outputs": [],
   "source": [
    "import warnings\n",
    "warnings.filterwarnings('ignore')\n",
    "import numpy as np\n",
    "import matplotlib.pyplot as plt\n",
    "from sklearn.model_selection import train_test_split\n",
    "import tensorflow as tf\n",
    "import pandas as pd\n",
    "from sklearn import preprocessing as p\n",
    "from tensorflow.keras import Sequential\n",
    "from tensorflow.keras.layers import Input, Dense\n"
   ]
  },
  {
   "cell_type": "code",
   "execution_count": 2,
   "id": "2b8293c7",
   "metadata": {},
   "outputs": [],
   "source": [
    "#utwórz zmienną EPOCHS i przypisz do niej wartość 10000 lub więcej\n",
    "EPOCHS = 10001"
   ]
  },
  {
   "cell_type": "code",
   "execution_count": 4,
   "id": "0914c1dd",
   "metadata": {},
   "outputs": [],
   "source": [
    "#wczytaj dane heart\n",
    "df = pd.read_csv('heart.csv')\n",
    "\n",
    "#standaryzuj dane\n",
    "data = np.asarray(df)\n",
    "X = data[:, 0:13] #zmienna X zawiera wszystkie pomiary od kolumny 0 do 12\n",
    "y = data[:,13] #zmienna y zawiera etykietę (output)\n",
    "\n",
    "data_ss = p.StandardScaler().fit_transform(X)\n",
    "data_ss\n",
    "\n",
    "#podziel je na dane treningowe i walidacyjne\n",
    "X_train, X_val, y_train, y_val = train_test_split(data_ss, y, test_size= 0.2)"
   ]
  },
  {
   "cell_type": "code",
   "execution_count": 5,
   "id": "49952f1e",
   "metadata": {},
   "outputs": [],
   "source": [
    "from tensorflow.keras.callbacks import EarlyStopping\n",
    "#ustawienie monitora wczesnego zatrzymania, monitorujemy wartość loss na zbiorze walidacyjnym\n",
    "es = EarlyStopping(monitor = \"val_loss\", mode = \"min\", patience = 5)"
   ]
  },
  {
   "cell_type": "code",
   "execution_count": 7,
   "id": "1c25ec3e",
   "metadata": {},
   "outputs": [
    {
     "name": "stdout",
     "output_type": "stream",
     "text": [
      "Model: \"sequential_1\"\n",
      "_________________________________________________________________\n",
      " Layer (type)                Output Shape              Param #   \n",
      "=================================================================\n",
      " dense_3 (Dense)             (None, 64)                896       \n",
      "                                                                 \n",
      " dense_4 (Dense)             (None, 8)                 520       \n",
      "                                                                 \n",
      " dense_5 (Dense)             (None, 1)                 9         \n",
      "                                                                 \n",
      "=================================================================\n",
      "Total params: 1425 (5.57 KB)\n",
      "Trainable params: 1425 (5.57 KB)\n",
      "Non-trainable params: 0 (0.00 Byte)\n",
      "_________________________________________________________________\n",
      "Epoch 1/10001\n",
      "8/8 [==============================] - 1s 21ms/step - loss: 2.9164 - accuracy: 0.3760 - val_loss: 2.9500 - val_accuracy: 0.4918\n",
      "Epoch 2/10001\n",
      "8/8 [==============================] - 0s 4ms/step - loss: 1.9809 - accuracy: 0.5620 - val_loss: 1.9494 - val_accuracy: 0.5738\n",
      "Epoch 3/10001\n",
      "8/8 [==============================] - 0s 5ms/step - loss: 1.5529 - accuracy: 0.6446 - val_loss: 1.8040 - val_accuracy: 0.6230\n",
      "Epoch 4/10001\n",
      "8/8 [==============================] - 0s 7ms/step - loss: 1.4084 - accuracy: 0.6653 - val_loss: 1.5424 - val_accuracy: 0.6230\n",
      "Epoch 5/10001\n",
      "8/8 [==============================] - 0s 5ms/step - loss: 1.2671 - accuracy: 0.7025 - val_loss: 1.2945 - val_accuracy: 0.6393\n",
      "Epoch 6/10001\n",
      "8/8 [==============================] - 0s 7ms/step - loss: 1.1150 - accuracy: 0.7107 - val_loss: 1.2476 - val_accuracy: 0.6557\n",
      "Epoch 7/10001\n",
      "8/8 [==============================] - 0s 8ms/step - loss: 1.0320 - accuracy: 0.7314 - val_loss: 0.7232 - val_accuracy: 0.6885\n",
      "Epoch 8/10001\n",
      "8/8 [==============================] - 0s 7ms/step - loss: 0.7965 - accuracy: 0.7314 - val_loss: 0.5885 - val_accuracy: 0.6721\n",
      "Epoch 9/10001\n",
      "8/8 [==============================] - 0s 8ms/step - loss: 0.8299 - accuracy: 0.7521 - val_loss: 0.5549 - val_accuracy: 0.6721\n",
      "Epoch 10/10001\n",
      "8/8 [==============================] - 0s 7ms/step - loss: 0.8039 - accuracy: 0.7686 - val_loss: 0.5261 - val_accuracy: 0.6885\n",
      "Epoch 11/10001\n",
      "8/8 [==============================] - 0s 5ms/step - loss: 0.7772 - accuracy: 0.7851 - val_loss: 0.5027 - val_accuracy: 0.7049\n",
      "Epoch 12/10001\n",
      "8/8 [==============================] - 0s 4ms/step - loss: 0.7563 - accuracy: 0.8017 - val_loss: 0.4843 - val_accuracy: 0.7049\n",
      "Epoch 13/10001\n",
      "8/8 [==============================] - 0s 5ms/step - loss: 0.7400 - accuracy: 0.8058 - val_loss: 0.4794 - val_accuracy: 0.7377\n",
      "Epoch 14/10001\n",
      "8/8 [==============================] - 0s 7ms/step - loss: 0.7263 - accuracy: 0.8058 - val_loss: 0.4713 - val_accuracy: 0.7377\n",
      "Epoch 15/10001\n",
      "8/8 [==============================] - 0s 7ms/step - loss: 0.7139 - accuracy: 0.8140 - val_loss: 0.4613 - val_accuracy: 0.7541\n",
      "Epoch 16/10001\n",
      "8/8 [==============================] - 0s 7ms/step - loss: 0.7031 - accuracy: 0.8264 - val_loss: 0.4530 - val_accuracy: 0.7541\n",
      "Epoch 17/10001\n",
      "8/8 [==============================] - 0s 5ms/step - loss: 0.6941 - accuracy: 0.8264 - val_loss: 0.4487 - val_accuracy: 0.7541\n",
      "Epoch 18/10001\n",
      "8/8 [==============================] - 0s 4ms/step - loss: 0.6854 - accuracy: 0.8306 - val_loss: 0.4422 - val_accuracy: 0.7541\n",
      "Epoch 19/10001\n",
      "8/8 [==============================] - 0s 8ms/step - loss: 0.6772 - accuracy: 0.8306 - val_loss: 0.4407 - val_accuracy: 0.7377\n",
      "Epoch 20/10001\n",
      "8/8 [==============================] - 0s 7ms/step - loss: 0.6702 - accuracy: 0.8388 - val_loss: 0.4405 - val_accuracy: 0.7377\n",
      "Epoch 21/10001\n",
      "8/8 [==============================] - 0s 8ms/step - loss: 0.6634 - accuracy: 0.8388 - val_loss: 0.4348 - val_accuracy: 0.7213\n",
      "Epoch 22/10001\n",
      "8/8 [==============================] - 0s 4ms/step - loss: 0.6579 - accuracy: 0.8347 - val_loss: 0.4324 - val_accuracy: 0.7213\n",
      "Epoch 23/10001\n",
      "8/8 [==============================] - 0s 7ms/step - loss: 0.6519 - accuracy: 0.8347 - val_loss: 0.4345 - val_accuracy: 0.7049\n",
      "Epoch 24/10001\n",
      "8/8 [==============================] - 0s 4ms/step - loss: 0.6471 - accuracy: 0.8347 - val_loss: 0.4362 - val_accuracy: 0.7049\n",
      "Epoch 25/10001\n",
      "8/8 [==============================] - 0s 7ms/step - loss: 0.6420 - accuracy: 0.8347 - val_loss: 0.4360 - val_accuracy: 0.7049\n",
      "Epoch 26/10001\n",
      "8/8 [==============================] - 0s 4ms/step - loss: 0.6370 - accuracy: 0.8347 - val_loss: 0.4288 - val_accuracy: 0.7049\n",
      "Epoch 27/10001\n",
      "8/8 [==============================] - 0s 7ms/step - loss: 0.6323 - accuracy: 0.8388 - val_loss: 0.4263 - val_accuracy: 0.7049\n",
      "Epoch 28/10001\n",
      "8/8 [==============================] - 0s 8ms/step - loss: 0.6281 - accuracy: 0.8388 - val_loss: 0.4261 - val_accuracy: 0.7213\n",
      "Epoch 29/10001\n",
      "8/8 [==============================] - 0s 7ms/step - loss: 0.6236 - accuracy: 0.8471 - val_loss: 0.4268 - val_accuracy: 0.7213\n",
      "Epoch 30/10001\n",
      "8/8 [==============================] - 0s 5ms/step - loss: 0.6200 - accuracy: 0.8430 - val_loss: 0.4299 - val_accuracy: 0.7213\n",
      "Epoch 31/10001\n",
      "8/8 [==============================] - 0s 7ms/step - loss: 0.6158 - accuracy: 0.8471 - val_loss: 0.4318 - val_accuracy: 0.7213\n",
      "Epoch 32/10001\n",
      "8/8 [==============================] - 0s 8ms/step - loss: 0.6115 - accuracy: 0.8512 - val_loss: 0.4320 - val_accuracy: 0.7377\n",
      "Epoch 33/10001\n",
      "8/8 [==============================] - 0s 4ms/step - loss: 0.6083 - accuracy: 0.8595 - val_loss: 0.4248 - val_accuracy: 0.7377\n",
      "Epoch 34/10001\n",
      "8/8 [==============================] - 0s 5ms/step - loss: 0.6040 - accuracy: 0.8595 - val_loss: 0.4266 - val_accuracy: 0.7377\n",
      "Epoch 35/10001\n",
      "8/8 [==============================] - 0s 7ms/step - loss: 0.6005 - accuracy: 0.8636 - val_loss: 0.4283 - val_accuracy: 0.7541\n",
      "Epoch 36/10001\n",
      "8/8 [==============================] - 0s 7ms/step - loss: 0.5974 - accuracy: 0.8760 - val_loss: 0.4266 - val_accuracy: 0.7541\n",
      "Epoch 37/10001\n",
      "8/8 [==============================] - 0s 4ms/step - loss: 0.5942 - accuracy: 0.8719 - val_loss: 0.4308 - val_accuracy: 0.7541\n",
      "Epoch 38/10001\n",
      "8/8 [==============================] - 0s 4ms/step - loss: 0.5910 - accuracy: 0.8760 - val_loss: 0.4257 - val_accuracy: 0.7541\n"
     ]
    }
   ],
   "source": [
    "#stwórz model o dwóch warstwach ukrytych (64 i 8). Nadaj modelowi i historii uczenia unikalną nazwę\n",
    "#do polecenia fit dodaj jako argument callbacks = [es]\n",
    "model_bambi = Sequential([\n",
    "#       13 neuronów wejściowych\n",
    "        Input(shape = (13)), \n",
    "        Dense(64, activation = 'relu'), \n",
    "        Dense(8, activation = 'relu'),\n",
    "        Dense(1)\n",
    "])\n",
    "\n",
    "#podsumowanie budowy i wielkości modelu\n",
    "model_bambi.summary()\n",
    "\n",
    "#kompilowanie modelu\n",
    "model_bambi.compile(optimizer='adam',\n",
    "              loss='binary_crossentropy',\n",
    "              metrics=['accuracy'])\n",
    "\n",
    "#proces uczenia się już napisałam\n",
    "\n",
    "history_bambi = model_bambi.fit(X_train, y_train, epochs = EPOCHS, validation_data=(X_val, y_val), callbacks = [es])\n",
    "\n",
    "#zamiana wyników zapisanych w history na dataframe\n",
    "hist_bambi = pd.DataFrame(history_bambi.history)"
   ]
  },
  {
   "cell_type": "code",
   "execution_count": 8,
   "id": "e8bb107c",
   "metadata": {},
   "outputs": [
    {
     "data": {
      "text/plain": [
       "<matplotlib.legend.Legend at 0x2a05be96640>"
      ]
     },
     "execution_count": 8,
     "metadata": {},
     "output_type": "execute_result"
    },
    {
     "data": {
      "image/png": "[encoded data removed]",
      "text/plain": [
       "<Figure size 640x480 with 2 Axes>"
      ]
     },
     "metadata": {},
     "output_type": "display_data"
    }
   ],
   "source": [
    "#za pomocą polecenia sublpot z lewej strony wyświetl loss, z prawej accuracy\n",
    "#za pomocą polecenia sublpot z lewej strony wyświetl loss, z prawej accuracy\n",
    "plt.subplot(1, 2, 1)\n",
    "#1 liczba - ile wierszy wykresów będzie\n",
    "#2 liczba - ile kolumn wykresów będzie\n",
    "#3 liczba - który wykres definiujemy\n",
    "plt.plot(hist_bambi.loss, label = \"loss\")\n",
    "plt.plot(hist_bambi.val_loss, label = \"val_loss\")\n",
    "plt.xlabel(\"epoch\")\n",
    "plt.ylabel(\"loss\")\n",
    "plt.legend()\n",
    "\n",
    "plt.subplot(1, 2, 2)\n",
    "plt.plot(hist_bambi.accuracy, label = \"accuracy\")\n",
    "plt.plot(hist_bambi.val_accuracy, label = \"val_accuracy\")\n",
    "plt.xlabel(\"epoch\")\n",
    "plt.ylabel(\"accuracy\")\n",
    "\n",
    "\n",
    "plt.legend()"
   ]
  },
  {
   "cell_type": "code",
   "execution_count": null,
   "id": "c824e8d1",
   "metadata": {},
   "outputs": [],
   "source": [
    "#stwórz model o dwóch warstwach ukrytych (4 i 2). Nadaj modelowi i historii uczenia unikalną nazwę\n",
    "#do polecenia fit dodaj jako argument callbacks = [es]\n"
   ]
  },
  {
   "cell_type": "code",
   "execution_count": null,
   "id": "3b78966f",
   "metadata": {},
   "outputs": [],
   "source": [
    "#za pomocą polecenia sublpot z lewej strony wyświetl loss, z prawej accuracy"
   ]
  },
  {
   "cell_type": "code",
   "execution_count": null,
   "id": "7a7eb9ba",
   "metadata": {},
   "outputs": [],
   "source": []
  }
 ],
 "metadata": {
  "kernelspec": {
   "display_name": "Python 3 (ipykernel)",
   "language": "python",
   "name": "python3"
  },
  "language_info": {
   "codemirror_mode": {
    "name": "ipython",
    "version": 3
   },
   "file_extension": ".py",
   "mimetype": "text/x-python",
   "name": "python",
   "nbconvert_exporter": "python",
   "pygments_lexer": "ipython3",
   "version": "3.9.18"
  }
 },
 "nbformat": 4,
 "nbformat_minor": 5
}

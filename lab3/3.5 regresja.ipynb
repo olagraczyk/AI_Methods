{
 "cells": [
  {
   "cell_type": "code",
   "execution_count": null,
   "id": "80c24d0d",
   "metadata": {},
   "outputs": [],
   "source": [
    "import pandas as pd\n",
    "import numpy as np\n",
    "df = pd.read_csv('kc_house_data.csv')"
   ]
  },
  {
   "cell_type": "code",
   "execution_count": null,
   "id": "b67aadc3",
   "metadata": {},
   "outputs": [],
   "source": [
    "df=df.drop([\"id\", \"date\"], axis= 1)"
   ]
  },
  {
   "cell_type": "code",
   "execution_count": null,
   "id": "9f431d5c",
   "metadata": {},
   "outputs": [],
   "source": [
    "y =df[[\"price\"]]\n",
    "X = df.drop([\"price\"], axis= 1)"
   ]
  },
  {
   "cell_type": "code",
   "execution_count": null,
   "id": "ad6c7d79",
   "metadata": {},
   "outputs": [],
   "source": [
    "from sklearn.model_selection import train_test_split\n",
    "\n",
    "X_train, X_test, y_train, y_test = train_test_split(X, y, train_size = 0.8, random_state=1)"
   ]
  },
  {
   "cell_type": "code",
   "execution_count": null,
   "id": "f86ba66d",
   "metadata": {},
   "outputs": [],
   "source": [
    "from sklearn.linear_model import LinearRegression\n",
    "from sklearn.metrics import mean_squared_error, mean_absolute_error\n",
    "\n",
    "def regression(df, n_features):\n",
    "    y =df[[\"price\"]]\n",
    "    X = df.drop([\"price\"], axis= 1)\n",
    "    X = df.iloc[:, :n_features+1]\n",
    "\n",
    "    X_train, X_test, y_train, y_test = train_test_split(X, y, train_size = 0.8, random_state=1)\n",
    "    model = LinearRegression()\n",
    "    model.fit(X_train, y_train)\n",
    "    y_pred = model.predict(X_test)\n",
    "\n",
    "    mse = mean_squared_error(y_test, y_pred)\n",
    "    mae = mean_absolute_error(y_test, y_pred)\n",
    "    return (mse, mae)"
   ]
  },
  {
   "cell_type": "code",
   "execution_count": null,
   "id": "02751d00",
   "metadata": {},
   "outputs": [],
   "source": [
    "mse, mae = [], []\n",
    "for i in range(1,19):\n",
    "    mse.append(regression(df, i)[0])\n",
    "    mae.append(regression(df, i)[1])\n",
    "    "
   ]
  },
  {
   "cell_type": "code",
   "execution_count": null,
   "id": "b533bea6",
   "metadata": {},
   "outputs": [],
   "source": [
    "import matplotlib.pyplot as plt\n",
    "plt.plot(mse)\n",
    "plt.xlabel('n_features')\n",
    "plt.ylabel('mse')\n",
    "plt.locator_params(integer=True)"
   ]
  },
  {
   "cell_type": "code",
   "execution_count": null,
   "id": "d2dfd2da",
   "metadata": {},
   "outputs": [],
   "source": [
    "plt.plot(mae)\n",
    "plt.xlabel('n_features')\n",
    "plt.ylabel('mae')\n",
    "plt.locator_params(integer=True)"
   ]
  },
  {
   "cell_type": "code",
   "execution_count": null,
   "id": "d4149ba2",
   "metadata": {},
   "outputs": [],
   "source": []
  }
 ],
 "metadata": {
  "kernelspec": {
   "display_name": "Python 3 (ipykernel)",
   "language": "python",
   "name": "python3"
  },
  "language_info": {
   "codemirror_mode": {
    "name": "ipython",
    "version": 3
   },
   "file_extension": ".py",
   "mimetype": "text/x-python",
   "name": "python",
   "nbconvert_exporter": "python",
   "pygments_lexer": "ipython3",
   "version": "3.9.12"
  }
 },
 "nbformat": 4,
 "nbformat_minor": 5
}
